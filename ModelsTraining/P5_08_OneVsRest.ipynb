{
 "cells": [
  {
   "cell_type": "code",
   "execution_count": 1,
   "metadata": {
    "colab": {
     "base_uri": "https://localhost:8080/"
    },
    "id": "IEES-cFV3pm-",
    "outputId": "01928eea-1d39-416f-d06e-795bb54b7ce6"
   },
   "outputs": [
    {
     "name": "stderr",
     "output_type": "stream",
     "text": [
      "[nltk_data] Downloading package punkt to\n",
      "[nltk_data]     C:\\Users\\Maeva\\AppData\\Roaming\\nltk_data...\n",
      "[nltk_data]   Package punkt is already up-to-date!\n"
     ]
    }
   ],
   "source": [
    "import numpy as np\n",
    "import pandas as pd\n",
    "\n",
    "import matplotlib.pyplot as plt\n",
    "import seaborn as sns\n",
    "import re, nltk, spacy, gensim\n",
    "\n",
    "# Sklearn\n",
    "from sklearn.decomposition import NMF, LatentDirichletAllocation, TruncatedSVD\n",
    "from sklearn.feature_extraction.text import CountVectorizer, TfidfVectorizer\n",
    "from sklearn.model_selection import GridSearchCV\n",
    "from pprint import pprint\n",
    "\n",
    "import nltk\n",
    "import string\n",
    "from nltk.stem import WordNetLemmatizer\n",
    "from nltk.tokenize import sent_tokenize, word_tokenize\n",
    "nltk.download('punkt')\n",
    "\n",
    "from sklearn import cluster, metrics\n",
    "from sklearn import manifold, decomposition\n",
    "\n",
    "from sklearn.preprocessing import MultiLabelBinarizer\n",
    "from sklearn.model_selection import train_test_split\n",
    "\n",
    "from gensim.models.phrases import Phrases\n",
    "\n",
    "from sklearn.svm import SVC\n",
    "from sklearn.metrics import precision_score, recall_score, f1_score, accuracy_score, classification_report\n",
    "\n",
    "from sklearn.preprocessing import LabelEncoder, Normalizer\n",
    "from sklearn.pipeline import Pipeline\n",
    "from sklearn.multiclass import OneVsRestClassifier\n",
    "\n",
    "\n",
    "import time\n",
    "\n",
    "import pickle"
   ]
  },
  {
   "cell_type": "code",
   "execution_count": 2,
   "metadata": {
    "colab": {
     "base_uri": "https://localhost:8080/",
     "height": 441
    },
    "id": "RqvBvnOU3pp9",
    "outputId": "6223574b-f2f5-4f4d-f7bc-5e7f41f19fa0"
   },
   "outputs": [
    {
     "data": {
      "text/html": [
       "<div>\n",
       "<style scoped>\n",
       "    .dataframe tbody tr th:only-of-type {\n",
       "        vertical-align: middle;\n",
       "    }\n",
       "\n",
       "    .dataframe tbody tr th {\n",
       "        vertical-align: top;\n",
       "    }\n",
       "\n",
       "    .dataframe thead th {\n",
       "        text-align: right;\n",
       "    }\n",
       "</style>\n",
       "<table border=\"1\" class=\"dataframe\">\n",
       "  <thead>\n",
       "    <tr style=\"text-align: right;\">\n",
       "      <th></th>\n",
       "      <th>Unnamed: 0</th>\n",
       "      <th>Tags</th>\n",
       "      <th>BodyClean</th>\n",
       "      <th>TitleClean</th>\n",
       "      <th>FullPosts</th>\n",
       "      <th>numberOfTags</th>\n",
       "    </tr>\n",
       "  </thead>\n",
       "  <tbody>\n",
       "    <tr>\n",
       "      <th>0</th>\n",
       "      <td>4</td>\n",
       "      <td>python scripting</td>\n",
       "      <td>name main test script would like use module im...</td>\n",
       "      <td>python import initialize argparse name main</td>\n",
       "      <td>python import initialize argparse name main na...</td>\n",
       "      <td>2</td>\n",
       "    </tr>\n",
       "    <tr>\n",
       "      <th>1</th>\n",
       "      <td>5</td>\n",
       "      <td>git github</td>\n",
       "      <td>understand able disable pull request question ...</td>\n",
       "      <td>disable pull request github</td>\n",
       "      <td>disable pull request github understand able di...</td>\n",
       "      <td>2</td>\n",
       "    </tr>\n",
       "    <tr>\n",
       "      <th>2</th>\n",
       "      <td>11</td>\n",
       "      <td>laravel laravel</td>\n",
       "      <td>cant figure add header response used header gi...</td>\n",
       "      <td>add header response middleware</td>\n",
       "      <td>add header response middleware cant figure add...</td>\n",
       "      <td>2</td>\n",
       "    </tr>\n",
       "    <tr>\n",
       "      <th>3</th>\n",
       "      <td>19</td>\n",
       "      <td>python lambda</td>\n",
       "      <td>anyone behavior lambda function import x lambd...</td>\n",
       "      <td>lambda multiple statement python</td>\n",
       "      <td>lambda multiple statement python anyone behavi...</td>\n",
       "      <td>2</td>\n",
       "    </tr>\n",
       "    <tr>\n",
       "      <th>4</th>\n",
       "      <td>21</td>\n",
       "      <td>html css</td>\n",
       "      <td>container child one child dynamic width maximu...</td>\n",
       "      <td>moving element push adjacent element collide</td>\n",
       "      <td>moving element push adjacent element collide c...</td>\n",
       "      <td>2</td>\n",
       "    </tr>\n",
       "  </tbody>\n",
       "</table>\n",
       "</div>"
      ],
      "text/plain": [
       "   Unnamed: 0               Tags  \\\n",
       "0           4  python scripting    \n",
       "1           5        git github    \n",
       "2          11   laravel laravel    \n",
       "3          19     python lambda    \n",
       "4          21          html css    \n",
       "\n",
       "                                           BodyClean  \\\n",
       "0  name main test script would like use module im...   \n",
       "1  understand able disable pull request question ...   \n",
       "2  cant figure add header response used header gi...   \n",
       "3  anyone behavior lambda function import x lambd...   \n",
       "4  container child one child dynamic width maximu...   \n",
       "\n",
       "                                     TitleClean  \\\n",
       "0   python import initialize argparse name main   \n",
       "1                   disable pull request github   \n",
       "2                add header response middleware   \n",
       "3              lambda multiple statement python   \n",
       "4  moving element push adjacent element collide   \n",
       "\n",
       "                                           FullPosts  numberOfTags  \n",
       "0  python import initialize argparse name main na...             2  \n",
       "1  disable pull request github understand able di...             2  \n",
       "2  add header response middleware cant figure add...             2  \n",
       "3  lambda multiple statement python anyone behavi...             2  \n",
       "4  moving element push adjacent element collide c...             2  "
      ]
     },
     "execution_count": 2,
     "metadata": {},
     "output_type": "execute_result"
    }
   ],
   "source": [
    "sample_posts = pd.read_csv(\"data/subsetTop30Tags2.csv\", sep=\";\")\n",
    "sample_posts.head()"
   ]
  },
  {
   "cell_type": "code",
   "execution_count": 3,
   "metadata": {
    "colab": {
     "base_uri": "https://localhost:8080/"
    },
    "id": "WLkWfhZ17Zw1",
    "outputId": "c9f48c08-f01a-4d75-91c9-0a4621bd0c9c"
   },
   "outputs": [
    {
     "data": {
      "text/plain": [
       "(29044, 6)"
      ]
     },
     "execution_count": 3,
     "metadata": {},
     "output_type": "execute_result"
    }
   ],
   "source": [
    "sample_posts.shape"
   ]
  },
  {
   "cell_type": "code",
   "execution_count": 4,
   "metadata": {
    "colab": {
     "base_uri": "https://localhost:8080/",
     "height": 424
    },
    "id": "9w1Kgdrz7bW9",
    "outputId": "5d65bd33-4b7c-440a-bd09-f25ec7234d85"
   },
   "outputs": [
    {
     "data": {
      "text/html": [
       "<div>\n",
       "<style scoped>\n",
       "    .dataframe tbody tr th:only-of-type {\n",
       "        vertical-align: middle;\n",
       "    }\n",
       "\n",
       "    .dataframe tbody tr th {\n",
       "        vertical-align: top;\n",
       "    }\n",
       "\n",
       "    .dataframe thead th {\n",
       "        text-align: right;\n",
       "    }\n",
       "</style>\n",
       "<table border=\"1\" class=\"dataframe\">\n",
       "  <thead>\n",
       "    <tr style=\"text-align: right;\">\n",
       "      <th></th>\n",
       "      <th>Unnamed: 0</th>\n",
       "      <th>Tags</th>\n",
       "      <th>BodyClean</th>\n",
       "      <th>TitleClean</th>\n",
       "      <th>FullPosts</th>\n",
       "      <th>numberOfTags</th>\n",
       "    </tr>\n",
       "  </thead>\n",
       "  <tbody>\n",
       "    <tr>\n",
       "      <th>25895</th>\n",
       "      <td>162344</td>\n",
       "      <td>python pip</td>\n",
       "      <td>install spacy library natural language python ...</td>\n",
       "      <td>pip install killed memory get around</td>\n",
       "      <td>pip install killed memory get around install s...</td>\n",
       "      <td>2</td>\n",
       "    </tr>\n",
       "    <tr>\n",
       "      <th>21036</th>\n",
       "      <td>131549</td>\n",
       "      <td>dart flutter</td>\n",
       "      <td>flutter simple tab tab row built another metho...</td>\n",
       "      <td>multiple widget used globalkey</td>\n",
       "      <td>multiple widget used globalkey flutter simple ...</td>\n",
       "      <td>2</td>\n",
       "    </tr>\n",
       "    <tr>\n",
       "      <th>19439</th>\n",
       "      <td>121703</td>\n",
       "      <td>dart flutter</td>\n",
       "      <td>concerned following message run window thread ...</td>\n",
       "      <td>run window message identical line</td>\n",
       "      <td>run window message identical line concerned fo...</td>\n",
       "      <td>2</td>\n",
       "    </tr>\n",
       "    <tr>\n",
       "      <th>18520</th>\n",
       "      <td>116071</td>\n",
       "      <td>jekyll githubpages</td>\n",
       "      <td>struggling hour avail use one page theme cayma...</td>\n",
       "      <td>jekyll theme github page work locally</td>\n",
       "      <td>jekyll theme github page work locally struggli...</td>\n",
       "      <td>2</td>\n",
       "    </tr>\n",
       "    <tr>\n",
       "      <th>6939</th>\n",
       "      <td>43024</td>\n",
       "      <td>html css</td>\n",
       "      <td>put demonstrate set background text p element ...</td>\n",
       "      <td>apply background color cs text line break</td>\n",
       "      <td>apply background color cs text line break put ...</td>\n",
       "      <td>2</td>\n",
       "    </tr>\n",
       "    <tr>\n",
       "      <th>...</th>\n",
       "      <td>...</td>\n",
       "      <td>...</td>\n",
       "      <td>...</td>\n",
       "      <td>...</td>\n",
       "      <td>...</td>\n",
       "      <td>...</td>\n",
       "    </tr>\n",
       "    <tr>\n",
       "      <th>20919</th>\n",
       "      <td>130829</td>\n",
       "      <td>git github</td>\n",
       "      <td>fatal unable access next unknown error x revoc...</td>\n",
       "      <td>revocation function unable check revocation re...</td>\n",
       "      <td>revocation function unable check revocation re...</td>\n",
       "      <td>2</td>\n",
       "    </tr>\n",
       "    <tr>\n",
       "      <th>6645</th>\n",
       "      <td>41101</td>\n",
       "      <td>git gitmerge</td>\n",
       "      <td>way git merge two branch without file word dra...</td>\n",
       "      <td>git merge two branch without actually merging ...</td>\n",
       "      <td>git merge two branch without actually merging ...</td>\n",
       "      <td>2</td>\n",
       "    </tr>\n",
       "    <tr>\n",
       "      <th>25812</th>\n",
       "      <td>161702</td>\n",
       "      <td>javascript html</td>\n",
       "      <td>found code event used work would like used ins...</td>\n",
       "      <td>event deprecated used instead</td>\n",
       "      <td>event deprecated used instead found code event...</td>\n",
       "      <td>2</td>\n",
       "    </tr>\n",
       "    <tr>\n",
       "      <th>8252</th>\n",
       "      <td>50761</td>\n",
       "      <td>python matplotlib</td>\n",
       "      <td>case crash kernel win plot specifically ax res...</td>\n",
       "      <td>matplotlibs pyplotsubplots crash kernel</td>\n",
       "      <td>matplotlibs pyplotsubplots crash kernel case c...</td>\n",
       "      <td>2</td>\n",
       "    </tr>\n",
       "    <tr>\n",
       "      <th>22724</th>\n",
       "      <td>141908</td>\n",
       "      <td>python pandas</td>\n",
       "      <td>similar question object spatial ordered random...</td>\n",
       "      <td>panda rolling datetime multi index frame</td>\n",
       "      <td>panda rolling datetime multi index frame simil...</td>\n",
       "      <td>2</td>\n",
       "    </tr>\n",
       "  </tbody>\n",
       "</table>\n",
       "<p>5000 rows × 6 columns</p>\n",
       "</div>"
      ],
      "text/plain": [
       "       Unnamed: 0                 Tags  \\\n",
       "25895      162344          python pip    \n",
       "21036      131549        dart flutter    \n",
       "19439      121703        dart flutter    \n",
       "18520      116071  jekyll githubpages    \n",
       "6939        43024            html css    \n",
       "...           ...                  ...   \n",
       "20919      130829          git github    \n",
       "6645        41101        git gitmerge    \n",
       "25812      161702     javascript html    \n",
       "8252        50761   python matplotlib    \n",
       "22724      141908       python pandas    \n",
       "\n",
       "                                               BodyClean  \\\n",
       "25895  install spacy library natural language python ...   \n",
       "21036  flutter simple tab tab row built another metho...   \n",
       "19439  concerned following message run window thread ...   \n",
       "18520  struggling hour avail use one page theme cayma...   \n",
       "6939   put demonstrate set background text p element ...   \n",
       "...                                                  ...   \n",
       "20919  fatal unable access next unknown error x revoc...   \n",
       "6645   way git merge two branch without file word dra...   \n",
       "25812  found code event used work would like used ins...   \n",
       "8252   case crash kernel win plot specifically ax res...   \n",
       "22724  similar question object spatial ordered random...   \n",
       "\n",
       "                                              TitleClean  \\\n",
       "25895               pip install killed memory get around   \n",
       "21036                     multiple widget used globalkey   \n",
       "19439                  run window message identical line   \n",
       "18520              jekyll theme github page work locally   \n",
       "6939           apply background color cs text line break   \n",
       "...                                                  ...   \n",
       "20919  revocation function unable check revocation re...   \n",
       "6645   git merge two branch without actually merging ...   \n",
       "25812                      event deprecated used instead   \n",
       "8252             matplotlibs pyplotsubplots crash kernel   \n",
       "22724           panda rolling datetime multi index frame   \n",
       "\n",
       "                                               FullPosts  numberOfTags  \n",
       "25895  pip install killed memory get around install s...             2  \n",
       "21036  multiple widget used globalkey flutter simple ...             2  \n",
       "19439  run window message identical line concerned fo...             2  \n",
       "18520  jekyll theme github page work locally struggli...             2  \n",
       "6939   apply background color cs text line break put ...             2  \n",
       "...                                                  ...           ...  \n",
       "20919  revocation function unable check revocation re...             2  \n",
       "6645   git merge two branch without actually merging ...             2  \n",
       "25812  event deprecated used instead found code event...             2  \n",
       "8252   matplotlibs pyplotsubplots crash kernel case c...             2  \n",
       "22724  panda rolling datetime multi index frame simil...             2  \n",
       "\n",
       "[5000 rows x 6 columns]"
      ]
     },
     "execution_count": 4,
     "metadata": {},
     "output_type": "execute_result"
    }
   ],
   "source": [
    "sample_posts = sample_posts.sample(5000)\n",
    "sample_posts"
   ]
  },
  {
   "cell_type": "markdown",
   "metadata": {
    "id": "fhS9pLOinb6n"
   },
   "source": [
    "## Classifier"
   ]
  },
  {
   "cell_type": "code",
   "execution_count": 5,
   "metadata": {
    "colab": {
     "base_uri": "https://localhost:8080/"
    },
    "id": "SgxvWDox7sx2",
    "outputId": "0dbe7eb6-057c-475c-9bbb-45ce67583b59"
   },
   "outputs": [
    {
     "name": "stdout",
     "output_type": "stream",
     "text": [
      "[['pip', 'install', 'killed', 'memory', 'get', 'around', 'install', 'spacy', 'library', 'natural', 'language', 'python', 'pip', 'install', 'spacy', 'spacy', 'collected', 'package', 'spacy', 'already', 'answer', 'stack', 'overflow', 'due', 'low', 'memory', 'free', 'cant', 'extend', 'quick', 'tail', 'give', 'memory', 'kill', 'process', 'python', 'score', 'sacrifice', 'child', 'already', 'didnt', 'help', 'something', 'missing', 'file', 'manually', 'way', 'install', 'package', 'server', 'edit', 'complete', 'log', 'python', 'pip', 'install', 'spacy', 'converted', 'value', 'one', 'converted', 'value', 'one', 'spacy', 'location', 'search', 'version', 'spacy', 'getting', 'page', 'looking', 'cache', 'permanently', 'response', 'date', 'looking', 'cache', 'current', 'age', 'based', 'date', 'freshness', 'lifetime', 'freshness', 'lifetime', 'request', 'starting', 'new', 'connection', 'get', 'link', 'page', 'found', 'link', 'linked', 'hundred', 'line', 'found', 'link', 'version', 'version', 'version', 'looking', 'cache', 'current', 'age', 'based', 'date', 'freshness', 'lifetime', 'response', 'fresh', 'response', 'requirement', 'already', 'satisfied', 'spacy', 'requirement', 'already', 'satisfied', 'spacy', 'requirement', 'already', 'satisfied', 'spacy', 'requirement', 'already', 'satisfied', 'spacy', 'requirement', 'already', 'satisfied', 'request', 'spacy', 'requirement', 'already', 'satisfied', 'spacy', 'requirement', 'already', 'satisfied', 'wasabi', 'spacy', 'requirement', 'already', 'satisfied', 'spacy', 'requirement', 'already', 'satisfied', 'spacy', 'requirement', 'already', 'satisfied', 'spacy', 'requirement', 'already', 'satisfied', 'requirement', 'already', 'satisfied', 'requirement', 'already', 'satisfied', 'requirement', 'already', 'satisfied', 'requirement', 'already', 'satisfied', 'collected', 'package', 'spacy'], ['multiple', 'widget', 'used', 'globalkey', 'flutter', 'simple', 'tab', 'tab', 'row', 'built', 'another', 'method', 'code', 'override', 'context', 'final', 'new', 'final', 'new', 'final', 'new', 'return', 'new', 'scaffold', 'body', 'new', 'length', 'child', 'new', 'scaffold', 'new', 'bottom', 'new', 'tab', 'new', 'new', 'new', 'new', 'new', 'new', 'title', 'new', 'body', 'new', 'child', 'new', 'key', 'child', 'new', 'padding', 'new', 'context', 'position', 'return', 'new', 'divider', 'final', 'index', 'position', 'return', 'new', 'key', 'child', 'new', 'padding', 'new', 'context', 'position', 'return', 'new', 'divider', 'final', 'index', 'position', 'return', 'new', 'key', 'child', 'new', 'padding', 'new', 'context', 'position', 'return', 'new', 'divider', 'final', 'index', 'position', 'return', 'id', 'added', 'output', 'line', 'instead', 'work', 'tab', 'time', 'crash', 'error', 'exception', 'caught', 'library', 'following', 'assertion', 'thrown', 'building', 'multiple', 'used', 'key', 'used', 'multiple', 'parent', 'detached', 'one', 'time', 'tree', 'key', 'build', 'method', 'understand', 'multiple', 'used', 'error', 'key', 'unique', 'talking', 'thousand', 'intent', 'error', 'tab', 'time', 'thank', 'help'], ['run', 'window', 'message', 'identical', 'line', 'concerned', 'following', 'message', 'run', 'window', 'thread', 'identical', 'line']]\n"
     ]
    }
   ],
   "source": [
    "def sent_to_words(sentences):\n",
    "    for sentence in sentences:\n",
    "        yield(gensim.utils.simple_preprocess(str(sentence), deacc=True))  # deacc=True removes punctuations\n",
    "\n",
    "data_words = list(sent_to_words(sample_posts.FullPosts))\n",
    "\n",
    "print(data_words[:3])"
   ]
  },
  {
   "cell_type": "code",
   "execution_count": 6,
   "metadata": {
    "colab": {
     "base_uri": "https://localhost:8080/"
    },
    "id": "S1roj3F47w62",
    "outputId": "faafe11c-4713-4b81-9fac-1c1634001996"
   },
   "outputs": [
    {
     "name": "stdout",
     "output_type": "stream",
     "text": [
      "['kill memory get install spacy library natural language python install spacy spacy collect package spacy already answer stack overflow due low memory free extend quick tail give memory kill process score sacrifice child already help miss file manually way install package server edit complete spacy convert value convert value spacy location search version spacy getting page look cache permanently response date look cache current age base date freshness lifetime freshness lifetime request start new connection get link page find link link line find link version version version look cache current age base date freshness lifetime response fresh response requirement already satisfy spacy requirement already satisfied spacy requirement already satisfied spacy requirement already satisfied spacy requirement already satisfied request spacy requirement already satisfied spacy requirement already satisfied wasabi spacy requirement already satisfy spacy requirement already satisfied spacy requirement already satisfied spacy requirement already satisfied requirement already satisfied requirement already satisfied requirement already satisfied requirement already satisfied collect package spacy', 'multiple widget use globalkey flutter simple tab tab row build method final new final new final new return new scaffold body new length child new scaffold new bottom new tab new new new new new new title new body new child new key child new padding new context position return new divid final index position return new key child new padding new context position return new divid final index position return new key child new padding new context position return new divid final index position return d add output line instead work tab time crash error exception catch library follow assertion throw building multiple use key use multiple parent detach time tree key build method understand multiple used error key unique talk intent error tab time thank help']\n"
     ]
    }
   ],
   "source": [
    "def lemmatization(texts, allowed_postags=['NOUN', 'ADJ', 'VERB', 'ADV']):\n",
    "    \n",
    "    texts_out = []\n",
    "    for sent in texts:\n",
    "        doc = nlp(\" \".join(sent)) \n",
    "        texts_out.append(\" \".join([token.lemma_ if token.lemma_ not in ['-PRON-'] else '' for token in doc if token.pos_ in allowed_postags]))\n",
    "    return texts_out\n",
    "\n",
    "# Initialize spacy 'en' model, keeping only tagger component (for efficiency)\n",
    "# Run in terminal: python3 -m spacy download en\n",
    "nlp = spacy.load('en_core_web_sm', disable=['parser', 'ner'])\n",
    "\n",
    "# Do lemmatization keeping only Noun, Adj, Verb, Adverb\n",
    "data_lemmatized = lemmatization(data_words, allowed_postags=['NOUN', 'ADJ', 'VERB', 'ADV'])\n",
    "\n",
    "print(data_lemmatized[:2])"
   ]
  },
  {
   "cell_type": "code",
   "execution_count": 7,
   "metadata": {
    "id": "hV6PeqwG-VV3"
   },
   "outputs": [
    {
     "name": "stdout",
     "output_type": "stream",
     "text": [
      "['abandon' 'ability' 'able' ... 'zip' 'zone' 'zoom']\n"
     ]
    }
   ],
   "source": [
    "vectorizer = CountVectorizer(analyzer='word',       \n",
    "                             min_df=2,                        # minimum reqd occurences of a word \n",
    "                             stop_words='english',             # remove stop words\n",
    "                             lowercase=True,                   # convert all words to lowercase\n",
    "                             token_pattern='[a-zA-Z0-9]{3,}',  # num chars > 3\n",
    "                             max_features=50000             # max number of uniq words\n",
    "                            )\n",
    "\n",
    "data_vectorized = vectorizer.fit_transform(data_lemmatized)\n",
    "print(vectorizer.get_feature_names_out())\n",
    "# print(vectorizer.transform(data_lemmatized))"
   ]
  },
  {
   "cell_type": "code",
   "execution_count": 8,
   "metadata": {},
   "outputs": [
    {
     "name": "stdout",
     "output_type": "stream",
     "text": [
      "  (0, 1662)\t2\n",
      "  (0, 1856)\t3\n",
      "  (0, 1551)\t3\n",
      "  (0, 2931)\t18\n",
      "  (0, 1714)\t1\n",
      "  (0, 1951)\t1\n",
      "  (0, 1676)\t1\n",
      "  (0, 2434)\t1\n",
      "  (0, 512)\t2\n",
      "  (0, 2130)\t3\n",
      "  (0, 124)\t1\n",
      "  (0, 2981)\t1\n",
      "  (0, 2118)\t1\n",
      "  (0, 1779)\t1\n",
      "  (0, 1229)\t1\n",
      "  (0, 1096)\t1\n",
      "  (0, 2448)\t1\n",
      "  (0, 3147)\t1\n",
      "  (0, 2369)\t1\n",
      "  (0, 2742)\t1\n",
      "  (0, 2703)\t1\n",
      "  (0, 452)\t1\n",
      "  (0, 1385)\t1\n",
      "  (0, 1889)\t1\n",
      "  (0, 1150)\t1\n",
      "  :\t:\n",
      "  (4999, 1498)\t2\n",
      "  (4999, 2113)\t1\n",
      "  (4999, 3215)\t3\n",
      "  (4999, 1333)\t1\n",
      "  (4999, 749)\t1\n",
      "  (4999, 2093)\t1\n",
      "  (4999, 1468)\t1\n",
      "  (4999, 2142)\t1\n",
      "  (4999, 2858)\t2\n",
      "  (4999, 1227)\t1\n",
      "  (4999, 1626)\t1\n",
      "  (4999, 502)\t1\n",
      "  (4999, 2034)\t1\n",
      "  (4999, 187)\t1\n",
      "  (4999, 160)\t1\n",
      "  (4999, 2446)\t1\n",
      "  (4999, 258)\t1\n",
      "  (4999, 819)\t1\n",
      "  (4999, 2463)\t1\n",
      "  (4999, 2674)\t2\n",
      "  (4999, 2675)\t1\n",
      "  (4999, 748)\t1\n",
      "  (4999, 2603)\t1\n",
      "  (4999, 2935)\t1\n",
      "  (4999, 640)\t1\n"
     ]
    }
   ],
   "source": [
    "print(data_vectorized)"
   ]
  },
  {
   "cell_type": "code",
   "execution_count": 9,
   "metadata": {
    "colab": {
     "base_uri": "https://localhost:8080/"
    },
    "id": "7ctub2lh-WHF",
    "outputId": "d9a780fd-f328-4170-ed87-7c82738aca2e"
   },
   "outputs": [
    {
     "name": "stdout",
     "output_type": "stream",
     "text": [
      "Sparsicity:  0.646850084222347 %\n"
     ]
    }
   ],
   "source": [
    "# Materialize the sparse data\n",
    "data_dense = data_vectorized.todense()\n",
    "\n",
    "# Compute Sparsicity = Percentage of Non-Zero cells\n",
    "print(\"Sparsicity: \", ((data_dense > 0).sum()/data_dense.size)*100, \"%\")"
   ]
  },
  {
   "cell_type": "code",
   "execution_count": 10,
   "metadata": {
    "id": "4j6g6NLt-VYh"
   },
   "outputs": [],
   "source": [
    "X = data_vectorized\n",
    "y = sample_posts[\"Tags\"]"
   ]
  },
  {
   "cell_type": "code",
   "execution_count": 11,
   "metadata": {
    "id": "qGKMa-s3-Vd2"
   },
   "outputs": [],
   "source": [
    "# Split from the loaded dataset\n",
    "X_train, X_test, y_train, y_test = train_test_split(X, y, test_size=0.2, shuffle=True)"
   ]
  },
  {
   "cell_type": "code",
   "execution_count": 12,
   "metadata": {
    "colab": {
     "base_uri": "https://localhost:8080/"
    },
    "id": "8azZh8pJ-VgQ",
    "outputId": "2a54cabc-9dfa-4691-ce69-0c9d64f2fe78"
   },
   "outputs": [
    {
     "name": "stdout",
     "output_type": "stream",
     "text": [
      "X_train shape : (4000, 3562)\n",
      "X_test shape : (1000, 3562)\n",
      "y_train shape : (4000,)\n",
      "y_test shape : (1000,)\n"
     ]
    }
   ],
   "source": [
    "print(\"X_train shape : {}\".format(X_train.shape))\n",
    "print(\"X_test shape : {}\".format(X_test.shape))\n",
    "print(\"y_train shape : {}\".format(y_train.shape))\n",
    "print(\"y_test shape : {}\".format(y_test.shape))"
   ]
  },
  {
   "cell_type": "code",
   "execution_count": 13,
   "metadata": {},
   "outputs": [],
   "source": [
    "# X_train = vectorizer.fit_transform(X_train)\n",
    "# X_test = vectorizer.transform(X_test)"
   ]
  },
  {
   "cell_type": "code",
   "execution_count": 14,
   "metadata": {
    "id": "ozowjI5oAmUO"
   },
   "outputs": [],
   "source": [
    "def lsa_reduction(X_train, X_test, n_comp=120):\n",
    "    svd = TruncatedSVD(n_components=n_comp)\n",
    "    normalizer = Normalizer()\n",
    "    \n",
    "    lsa_pipe = Pipeline([('svd', svd),\n",
    "                        ('normalize', normalizer)]).fit(X_train)\n",
    "    \n",
    "    train_reduced = lsa_pipe.transform(X_train)\n",
    "    test_reduced = lsa_pipe.transform(X_test)\n",
    "    return train_reduced, test_reduced"
   ]
  },
  {
   "cell_type": "code",
   "execution_count": 15,
   "metadata": {
    "id": "5KzckcpBAmh2"
   },
   "outputs": [],
   "source": [
    "from sklearn.svm import LinearSVC\n",
    "from sklearn.linear_model import LogisticRegression\n",
    "svc = SVC(kernel='linear')\n",
    "modelLR = LogisticRegression()"
   ]
  },
  {
   "cell_type": "code",
   "execution_count": 16,
   "metadata": {},
   "outputs": [],
   "source": [
    "# X_train = vectorizer.fit_transform(X_train)\n",
    "# y_train = vectorizer.fit_transform(y_train)\n",
    "# X_test = vectorizer.transform(X_test)\n",
    "# y_test = vectorizer.transform(y_test)"
   ]
  },
  {
   "cell_type": "code",
   "execution_count": 17,
   "metadata": {
    "colab": {
     "base_uri": "https://localhost:8080/"
    },
    "id": "qzOmVWeKAm8c",
    "outputId": "ee52b934-2d40-4103-f44a-3beb941859ea"
   },
   "outputs": [],
   "source": [
    "# One vs Restclassifier\n",
    "# model_OVR = OneVsRestClassifier(LinearSVC(random_state=0)).fit(X_train, y_train)\n",
    "# model_OVR = OneVsRestClassifier(svc).fit(X_train, y_train)\n",
    "model_OVR = OneVsRestClassifier(svc).fit(X_train, y_train)"
   ]
  },
  {
   "cell_type": "code",
   "execution_count": 18,
   "metadata": {},
   "outputs": [],
   "source": [
    "pickle.dump(model_OVR, open('../ModelsAPI/model_OVR.pkl','wb'))"
   ]
  },
  {
   "cell_type": "code",
   "execution_count": 19,
   "metadata": {
    "id": "y954yzKzEVi-"
   },
   "outputs": [
    {
     "name": "stdout",
     "output_type": "stream",
     "text": [
      "['python pythonunittest ' 'python pandas ' 'python tor '\n",
      " 'javascript reactjs ' 'python regex ' 'python pyinstaller '\n",
      " 'python pandas ' 'python python ' 'python pip ' 'python opencv '\n",
      " 'angular typescript ' 'php laravel ' 'python sqlite ' 'java android '\n",
      " 'powershell gitlabci ' 'git gitcheckout ' 'python python '\n",
      " 'python getattr ' 'dart flutter ' 'python pandas ' 'angular typescript '\n",
      " 'python pip ' 'python pythonimaginglibrary ' 'javascript typescript '\n",
      " 'ios swift ' 'androidstudio flutter ' 'python pandas ' 'ios swift '\n",
      " 'python python ' 'python matplotlib ' 'laravel laravel '\n",
      " 'python matplotlib ' 'git atlassiansourcetree ' 'javascript reactjs '\n",
      " 'python matplotlib ' 'python pip ' 'python pip ' 'typescript angular '\n",
      " 'python multiprocessing ' 'arrays swift ' 'angular typescript '\n",
      " 'html css ' 'css cssanimations ' 'python pandas ' 'python pandas '\n",
      " 'python pandas ' 'javascript nodejs ' 'python tensorflow '\n",
      " 'python tensorflow ' 'javascript typescript ' 'python yaml '\n",
      " 'dart flutter ' 'dart flutter ' 'python pytorch ' 'python pandas '\n",
      " 'javascript jquery ' 'python regex ' 'python django ' 'dart flutter '\n",
      " 'laravel laravel ' 'git github ' 'python tensorflow '\n",
      " 'javascript jquery ' 'python matplotlib ' 'python pandas '\n",
      " 'python pythonx ' 'python pythonx ' 'python datetime ' 'python pandas '\n",
      " 'python pandas ' 'javascript typescript ' 'c c ' 'javascript typescript '\n",
      " 'java docker ' 'python pythonx ' 'python ubuntu ' 'python datetime '\n",
      " 'python openpyxl ' 'ios xcode ' 'python python ' 'angular angular '\n",
      " 'python decorator ' 'git gitpush ' 'html css ' 'c c ' 'python pandas '\n",
      " 'swift xcode ' 'python datetime ' 'javascript reactjs '\n",
      " 'javascript reactjs ' 'swift xcode ' 'yaml gitlabci ' 'python pandas '\n",
      " 'python pandas ' 'javascript vuejs ' 'python pandas ' 'python numpy '\n",
      " 'python python ' 'python pandas ' 'javascript jquery ' 'c c '\n",
      " 'ios swift ' 'iis angular ' 'ios xcode ' 'javascript jquery '\n",
      " 'dart flutter ' 'javascript reactjs ' 'python pythonx ' 'html css '\n",
      " 'javascript html ' 'python sqlalchemy ' 'python pandas ' 'git gitmerge '\n",
      " 'java android ' 'python switchstatement ' 'ios xcode ' 'ios swift '\n",
      " 'javascript reactjs ' 'mongodb docker ' 'python matplotlib '\n",
      " 'vuejs vuejs ' 'ios xcode ' 'angular angular ' 'python opencv '\n",
      " 'git gittag ' 'arrays swift ' 'dart flutter ' 'java android '\n",
      " 'git visualstudiocode ' 'angular angular ' 'ios xcode ' 'python pythonx '\n",
      " 'jquery angular ' 'python sqlalchemy ' 'git flutter ' 'java android '\n",
      " 'javascript jquery ' 'javascript reactjs ' 'javascript vuejs '\n",
      " 'vuejs vuejs ' 'c c ' 'java java ' 'c c ' 'python sqlalchemy '\n",
      " 'angular typescript ' 'python fastapi ' 'python pythonx '\n",
      " 'javascript jquery ' 'c c ' 'python pandas ' 'python matplotlib '\n",
      " 'python pip ' 'javascript html ' 'git visualstudiocode ' 'python execve '\n",
      " 'javascript html ' 'c aspnetcore ' 'dart flutter ' 'python anaconda '\n",
      " 'python selenium ' 'html css ' 'python keras ' 'python opencv '\n",
      " 'javascript angular ' 'git bitbucketserver ' 'python beautifulsoup '\n",
      " 'angular typescript ' 'function typescript ' 'android firebase '\n",
      " 'python jupyternotebook ' 'php laravel ' 'html css ' 'templates angular '\n",
      " 'python uuid ' 'python pulp ' 'python statsmodels ' 'python pandas '\n",
      " 'python tensorflow ' 'python numpy ' 'python spellchecking '\n",
      " 'python datetime ' 'javascript reactjs ' 'java spring ' 'ios xcode '\n",
      " 'permissions gitlab ' 'python pandas ' 'python numpy ' 'python plotly '\n",
      " 'crystalreports aspnetcore ' 'gitlab gitlabci ' 'javascript html '\n",
      " 'dart flutter ' 'gitlab githubactions ' 'python pandas ' 'vuejs vuejs '\n",
      " 'javascript html ' 'python pandas ' 'python python ' 'python pip '\n",
      " 'html css ' 'python scikitlearn ' 'python string ' 'html css '\n",
      " 'python string ' 'html css ' 'javascript nodejs ' 'git gitconfig '\n",
      " 'html css ' 'gitlabci gitlabcirunner ' 'python numpy ' 'html css '\n",
      " 'python tkinter ' 'python pip ' 'java android ' 'python python '\n",
      " 'javascript typescript ' 'php json ' 'angular typescript ' 'c c '\n",
      " 'python matplotlib ' 'python string ' 'python turtlegraphics '\n",
      " 'javascript vuejs ' 'ios swift ' 'python pip ' 'dart flutter '\n",
      " 'java java ' 'python datetime ' 'gpio python ' 'ios swift ' 'html css '\n",
      " 'javascript nodejs ' 'java java ' 'javascript angular ' 'xcode xcode '\n",
      " 'python pythonx ' 'angular typescript ' 'visualstudio visualstudio '\n",
      " 'python pandas ' 'python tkinter ' 'html css ' 'angular typescript '\n",
      " 'reactjs typescript ' 'html css ' 'macos flutter ' 'angular typescript '\n",
      " 'python django ' 'javascript jquery ' 'python selenium ' 'git rebase '\n",
      " 'java java ' 'html css ' 'python pythonx ' 'python opencv '\n",
      " 'python string ' 'python django ' 'python numpy ' 'python keras '\n",
      " 'python numpy ' 'c aspnetcore ' 'php laravel ' 'html css ' 'c c '\n",
      " 'html css ' 'python visualstudiocode ' 'python csv ' 'python spyder '\n",
      " 'python anaconda ' 'javascript jquery ' 'git tortoisegit '\n",
      " 'javascript typescript ' 'git gitcheckout ' 'python tensorflow '\n",
      " 'python pycharm ' 'crystalreports aspnetcore ' 'xamarin visualstudio '\n",
      " 'python openpyxl ' 'python pythonasyncio ' 'javascript html '\n",
      " 'github diff ' 'angular typescript ' 'python matplotlib ' 'html css '\n",
      " 'ios angular ' 'python flask ' 'c c ' 'angular angular '\n",
      " 'javascript vuejs ' 'python pandas ' 'python pandas ' 'ios swift '\n",
      " 'mysql aspnetcore ' 'html css ' 'javascript jquery ' 'javascript jquery '\n",
      " 'java java ' 'c c ' 'python regex ' 'java android ' 'javascript reactjs '\n",
      " 'angular typescript ' 'php laravel ' 'linux docker ' 'sockets docker '\n",
      " 'python pythonx ' 'html css ' 'python logging ' 'javascript html '\n",
      " 'javascript reactjs ' 'javascript reactjs ' 'laravel laravel '\n",
      " 'javascript typescript ' 'python pythonx ' 'css cssselectors '\n",
      " 'java spring ' 'javascript jquery ' 'visualstudio visualstudio '\n",
      " 'c aspnetcore ' 'javascript reactjs ' 'c visualstudio ' 'dart flutter '\n",
      " 'c c ' 'javascript nodejs ' 'javascript reactjs '\n",
      " 'python multiprocessing ' 'c c ' 'python elasticsearch '\n",
      " 'visualstudiocode flutter ' 'python opencv ' 'python enums '\n",
      " 'javascript nodejs ' 'javascript reactjs ' 'dart flutter '\n",
      " 'dart flutter ' 'git gitkraken ' 'git github ' 'java android '\n",
      " 'css cssselectors ' 'python matplotlib ' 'html css ' 'swift xcode '\n",
      " 'ipython ipythonmagic ' 'git github ' 'python queue '\n",
      " 'python pythonasyncio ' 'angular angular ' 'python pythonx ' 'ios swift '\n",
      " 'python selenium ' 'dart flutter ' 'python pytest ' 'python seaborn '\n",
      " 'javascript typescript ' 'python pythonx ' 'c aspnetcore '\n",
      " 'angular typescript ' 'html css ' 'python sqlalchemy '\n",
      " 'python beautifulsoup ' 'javascript html ' 'php laravel '\n",
      " 'python tensorflow ' 'php laravel ' 'python virtualenv '\n",
      " 'git intellijidea ' 'python pycharm ' 'dart flutter ' 'php laravel '\n",
      " 'php laravel ' 'html angular ' 'python sqlalchemy ' 'javascript jquery '\n",
      " 'babeljs reactjs ' 'python django ' 'c c ' 'ios swift ' 'c c '\n",
      " 'gitlab githubactions ' 'ios swift ' 'typescript typescript '\n",
      " 'python matplotlib ' 'unittesting angular ' 'python numpy '\n",
      " 'python datetime ' 'python logging ' 'java android ' 'python django '\n",
      " 'c c ' 'c c ' 'python selenium ' 'xcode ios ' 'javascript reactjs '\n",
      " 'python pandas ' 'c c ' 'python python ' 'postgresql docker '\n",
      " 'python jupyternotebook ' 'python windows ' 'python operators '\n",
      " 'python opencv ' 'python pandas ' 'c c ' 'dart flutter ' 'python opencv '\n",
      " 'vim vimfugitive ' 'git logging ' 'javascript jquery ' 'python flask '\n",
      " 'html css ' 'android firebase ' 'c c ' 'python pandas ' 'c c '\n",
      " 'dart flutter ' 'r github ' 'github githubactions ' 'python numpy '\n",
      " 'python pandas ' 'go docker ' 'dart flutter ' 'python tensorflow '\n",
      " 'html css ' 'python visualstudio ' 'javascript vuejs ' 'python pandas '\n",
      " 'python pandas ' 'python pickle ' 'javascript nodejs ' 'dart flutter '\n",
      " 'javascript reactjs ' 'python list ' 'webview flutter '\n",
      " 'laravel laravel ' 'python utf ' 'python pythonrequests '\n",
      " 'python pythonx ' 'javascript html ' 'python pythonmultiprocessing '\n",
      " 'typescript angular ' 'python datetime ' 'laravel laravel '\n",
      " 'javascript reactjs ' 'javascript jquery ' 'vuejs vuejs '\n",
      " 'javascript jquery ' 'c c ' 'typescript angular ' 'angular typescript '\n",
      " 'angular typescript ' 'python pythonrequests ' 'python pandas '\n",
      " 'angular typescript ' 'python python ' 'github pullrequest '\n",
      " 'javascript html ' 'python list ' 'python numpy ' 'html css '\n",
      " 'vuejs vuejs ' 'laravel laravel ' 'java java ' 'php php '\n",
      " 'androidstudio flutter ' 'java java ' 'css cssanimations '\n",
      " 'python pandas ' 'javascript angular ' 'python sorting ' 'ios xcode '\n",
      " 'python shell ' 'javascript reactjs ' 'c c ' 'javascript vuejs '\n",
      " 'python flask ' 'python pip ' 'python beautifulsoup '\n",
      " 'javascript jquery ' 'xcode xcode ' 'python redis ' 'mysql laravel '\n",
      " 'dart flutter ' 'php php ' 'python dictionary ' 'ios swift ' 'c c '\n",
      " 'database laravel ' 'android flutter ' 'html css ' 'html css '\n",
      " 'html css ' 'java android ' 'python pycharm ' 'yaml githubactions '\n",
      " 'python matplotlib ' 'php laravel ' 'python pythonx '\n",
      " 'angular typescript ' 'typescript typescripttypings ' 'git gitlfs '\n",
      " 'python pandas ' 'dart flutter ' 'c c ' 'templates angular '\n",
      " 'python pythonx ' 'python django ' 'java android ' 'android flutter '\n",
      " 'javascript typescript ' 'jquery html ' 'git visualstudiocode '\n",
      " 'python generator ' 'python librosa ' 'github travisci ' 'ios swift '\n",
      " 'python celery ' 'ios swift ' 'python switchstatement ' 'macos docker '\n",
      " 'ios xcode ' 'python pandas ' 'python seaborn ' 'python list '\n",
      " 'angular typescript ' 'ios swift ' 'python django ' 'javascript html '\n",
      " 'git tortoisegit ' 'python pandas ' 'angular typescript '\n",
      " 'python pythonx ' 'python datetime ' 'python matplotlib ' 'macos docker '\n",
      " 'vuejs vuejs ' 'javascript reactjs ' 'javascript html ' 'java android '\n",
      " 'python matplotlib ' 'python pip ' 'python pandas ' 'python dictionary '\n",
      " 'css cssgrid ' 'webview flutter ' 'python protocolbuffers '\n",
      " 'javascript angular ' 'dart flutter ' 'c aspnetcore '\n",
      " 'angular typescript ' 'github npm ' 'vuejs vuejs '\n",
      " 'python beautifulsoup ' 'php laravel ' 'javascript typescript '\n",
      " 'python pandas ' 'git github ' 'javascript html ' 'regex r '\n",
      " 'javascript angular ' 'python sqlalchemy ' 'html css ' 'python jenkins '\n",
      " 'git github ' 'c aspnetcore ' 'dart flutter ' 'dart flutter '\n",
      " 'python pytest ' 'unittesting angular ' 'javascript typescript '\n",
      " 'python jinja ' 'python django ' 'javascript typescript '\n",
      " 'python datetime ' 'python pythonrequests ' 'python numpy '\n",
      " 'javascript reactjs ' 'html css ' 'vuejs vuejs ' 'ios swift '\n",
      " 'python visualstudiocode ' 'python pythonx ' 'javascript typescript '\n",
      " 'reactjs typescript ' 'python openpyxl ' 'python pycharm ' 'git github '\n",
      " 'java python ' 'ios swift ' 'vim vimfugitive ' 'python django '\n",
      " 'java android ' 'python pandas ' 'ios swift ' 'git bitbucketserver '\n",
      " 'html css ' 'c c ' 'css laravel ' 'dart flutter ' 'c visualstudio '\n",
      " 'github githubcodereviews ' 'python pip ' 'ipython ipythonnotebook '\n",
      " 'python pandas ' 'python django ' 'git gitcheckout ' 'c c ' 'git github '\n",
      " 'dart flutter ' 'python timestamp ' 'python matplotlib ' 'git github '\n",
      " 'python numpy ' 'python tensorflow ' 'c c ' 'javascript reactjs '\n",
      " 'typescript typescriptgenerics ' 'events angular ' 'python pygame '\n",
      " 'git author ' 'typescript typescript ' 'python keras ' 'python pythonx '\n",
      " 'angular typescript ' 'html css ' 'python visualstudio ' 'python pandas '\n",
      " 'travisci githubapi ' 'python pandas ' 'javascript angular '\n",
      " 'git bitbucket ' 'python scikitlearn ' 'python dictionary '\n",
      " 'java android ' 'javascript vuejs ' 'typescript angular '\n",
      " 'python openpyxl ' 'python windows ' 'androidstudio flutter '\n",
      " 'python pip ' 'python pandas ' 'python keras ' 'python tensorflow '\n",
      " 'git gitsubmodules ' 'python matplotlib ' 'r github '\n",
      " 'templates angular ' 'python string ' 'python regex ' 'laravel vuejs '\n",
      " 'c c ' 'c c ' 'python pythonx ' 'python combinations ' 'python pep '\n",
      " 'python multiprocessing ' 'vuejs vuejs ' 'python scikitlearn '\n",
      " 'nodejs typescript ' 'python tkinter ' 'python tensorflow '\n",
      " 'python beautifulsoup ' 'net visualstudio ' 'windows gitcrypt '\n",
      " 'git github ' 'javascript typescript ' 'git dotfiles '\n",
      " 'javascript reactjs ' 'html css ' 'javascript jquery ' 'java java '\n",
      " 'ios swift ' 'javascript jquery ' 'python pandas ' 'javascript html '\n",
      " 'javascript reactjs ' 'tfs visualstudio ' 'gitlab eslint '\n",
      " 'python pandas ' 'python opencv ' 'c c ' 'python deque ' 'python python '\n",
      " 'dart flutter ' 'typescript typescript ' 'dart flutter ' 'dart flutter '\n",
      " 'javascript vuejs ' 'tsc typescript ' 'c c ' 'python matplotlib '\n",
      " 'python pythonx ' 'javascript jquery ' 'html css ' 'c aspnetcore '\n",
      " 'javascript html ' 'python tensorflow ' 'python pandas ' 'python pytest '\n",
      " 'c c ' 'python python ' 'python pandas ' 'dart flutter ' 'python pip '\n",
      " 'python dictionary ' 'javascript reactjs ' 'python pandas ' 'python csv '\n",
      " 'javascript reactjs ' 'javascript reactjs ' 'ios swift ' 'python django '\n",
      " 'git github ' 'javascript vuejs ' 'python scikitlearn ' 'api gitlab '\n",
      " 'ios swift ' 'github jupyternotebook ' 'python numpy ' 'laravel laravel '\n",
      " 'python elasticsearch ' 'java android ' 'python pip ' 'php laravel '\n",
      " 'python datetime ' 'python pytorch ' 'css cssgrid '\n",
      " 'javascript typescript ' 'python nonetype ' 'mysql docker '\n",
      " 'git gitbash ' 'python pandas ' 'ios swift ' 'python shell '\n",
      " 'git github ' 'python django ' 'javascript reactjs ' 'python tor '\n",
      " 'python tensorflow ' 'git visualstudiocode ' 'visualstudio visualstudio '\n",
      " 'reactjs typescript ' 'javascript reactjs ' 'git gitrebase ' 'c c '\n",
      " 'dart flutter ' 'python datetime ' 'javascript vuejs ' 'python numpy '\n",
      " 'java android ' 'python string ' 'javascript reactjs ' 'python pandas '\n",
      " 'bash docker ' 'javascript jquery ' 'git gittag ' 'git github '\n",
      " 'javascript reactjs ' 'python syntax ' 'ipython ipythonnotebook '\n",
      " 'gpio python ' 'angular typescript ' 'python numpy ' 'python django '\n",
      " 'c c ' 'visualstudio visualstudio ' 'java android ' 'python flask '\n",
      " 'java android ' 'python jenkins ' 'python pandas ' 'angular angular '\n",
      " 'python tkinter ' 'database laravel ' 'ios xcode ' 'net visualstudio '\n",
      " 'java android ' 'python pythonx ' 'javascript json ' 'ios swift '\n",
      " 'python pandas ' 'python docstring ' 'laravel laravel ' 'python pandas '\n",
      " 'python pandas ' 'python pandas ' 'c c ' 'ios swift ' 'python opencv '\n",
      " 'javascript reactjs ' 'python django ' 'python mlflow '\n",
      " 'python scikitlearn ' 'python scrapy ' 'css cssselectors '\n",
      " 'python sqlalchemy ' 'github githubactions ' 'ios xcode '\n",
      " 'angular typescript ' 'java android ' 'python pytest ' 'arrays swift '\n",
      " 'dart flutter ' 'php laravel ' 'python flask ' 'dart flutter '\n",
      " 'python pythonfire ' 'javascript nodejs ' 'mongodb docker '\n",
      " 'javascript html ' 'javascript nodejs ' 'html css ' 'javascript angular '\n",
      " 'python datetime ' 'python opencv ' 'javascript typescript '\n",
      " 'python openpyxl ' 'javascript typescript ' 'json swift '\n",
      " 'visualstudio visualstudio ' 'python sorting ' 'python python '\n",
      " 'xcode ios ' 'mongodb docker ' 'python visualstudiocode '\n",
      " 'python argparse ' 'python opencv ' 'javascript reactjs '\n",
      " 'python pytest ' 'python pandas ' 'dart flutter ' 'python selenium '\n",
      " 'python pandas ' 'python pandas ' 'javascript jquery ' 'python pandas '\n",
      " 'python django ' 'python pythonimport ' 'python pandas ' 'dart flutter '\n",
      " 'javascript jquery ' 'python numpy ' 'javascript css ' 'dart flutter '\n",
      " 'python math ' 'vuejs vuejs ' 'python yaml ' 'python multiprocessing '\n",
      " 'python numpy ' 'laravel laravel ' 'c c ' 'c c ' 'python pyinstaller '\n",
      " 'xcode ios ' 'git flutter ' 'python string ' 'html css ' 'vuejs vuejs '\n",
      " 'python pycharm ' 'reactjs typescript ' 'git bitbucket ' 'python django '\n",
      " 'python python ' 'php laravel ' 'github gitlab ' 'ipython ipythonmagic '\n",
      " 'javascript reactjs ' 'php laravel ' 'ios swift ' 'python opencv '\n",
      " 'git jenkins ' 'python matplotlib ' 'python matplotlib ' 'python django '\n",
      " 'java android ' 'python listcomprehension ' 'python tensorflow '\n",
      " 'java android ' 'python opencv ' 'git gitcommit ' 'events angular '\n",
      " 'c c ' 'javascript reactjs ' 'typescript typescript '\n",
      " 'reactjs typescript ' 'android android ' 'javascript typescript '\n",
      " 'python tensorflow ' 'python pythonwebbrowser ' 'python pyinstaller '\n",
      " 'javascript angular ' 'dart flutter ' 'python peewee ' 'java android '\n",
      " 'python pandas ' 'python python ' 'python tensorflow '\n",
      " 'python matplotlib ' 'c c ' 'python flask ' 'typescript vuejs '\n",
      " 'python sqlalchemy ' 'swift xcode ' 'python pythonmultiprocessing '\n",
      " 'html css ' 'typescript vuejs ' 'laravel laravel ' 'python matplotlib '\n",
      " 'javascript reactjs ' 'java android ' 'php laravel ' 'python matplotlib '\n",
      " 'javascript reactjs ' 'ios swift ' 'python datetime '\n",
      " 'python webcrawler ' 'python pandas ' 'ios xcode ' 'python python '\n",
      " 'java android ' 'html css ' 'javascript html ' 'java android '\n",
      " 'html css ' 'javascript reactjs ' 'c c ' 'c json ' 'angular typescript '\n",
      " 'javascript vuejs ' 'python keras ' 'c c ' 'javascript reactjs '\n",
      " 'javascript vuejs ' 'ios swift ' 'html css ' 'python uuid '\n",
      " 'php laravel ' 'laravel laravel ' 'python argparse ' 'python pycharm '\n",
      " 'python datetime ' 'python pythonx ' 'c c ' 'javascript jquery '\n",
      " 'dart flutter ' 'git visualstudiocode ' 'c c ' 'ios swift '\n",
      " 'sorting pandas ' 'python selenium ' 'github githubcodereviews '\n",
      " 'javascript reactjs ' 'python virtualenv ' 'c c ' 'python pythonx '\n",
      " 'javascript angular ' 'javascript reactjs ' 'python string '\n",
      " 'javascript reactjs ' 'git gitignore ' 'php laravel ' 'python flask '\n",
      " 'python pandas ' 'url github ' 'git gittag ' 'python regex '\n",
      " 'python scope ' 'ios swift ' 'c c ' 'python formatting '\n",
      " 'python selenium ' 'git visualstudiocode ' 'ios swift ' 'dart flutter '\n",
      " 'python opencv ' 'html css ' 'ios swift ' 'git gittag '\n",
      " 'python pyserial ' 'xcode swift ' 'git gitmerge ' 'macos typescript '\n",
      " 'javascript reactjs ' 'c c ' 'dart flutter ' 'python pandas '\n",
      " 'github directory ' 'python numpy ' 'python sqlalchemy ' 'java android '\n",
      " 'typescript angular ' 'c c ' 'c c ' 'javascript jquery ' 'python keras '\n",
      " 'javascript jquery ' 'python pythonasyncio ' 'javascript nodejs '\n",
      " 'python pandas ' 'yii php ' 'laravel git ' 'python python ']\n",
      "(1000,)\n"
     ]
    }
   ],
   "source": [
    "y_pred = model_OVR.predict(X_test)\n",
    "print(y_pred)\n",
    "print(y_pred.shape)"
   ]
  },
  {
   "cell_type": "code",
   "execution_count": 20,
   "metadata": {},
   "outputs": [
    {
     "data": {
      "text/plain": [
       "(1000,)"
      ]
     },
     "execution_count": 20,
     "metadata": {},
     "output_type": "execute_result"
    }
   ],
   "source": [
    "y_pred.shape"
   ]
  },
  {
   "cell_type": "code",
   "execution_count": 21,
   "metadata": {},
   "outputs": [
    {
     "name": "stdout",
     "output_type": "stream",
     "text": [
      "['python django ']\n"
     ]
    }
   ],
   "source": [
    "test = [\"Django supports Python. If you're under Linux and want to check the Python version you're using, run python -V from the command line If you want to check the Django version, open a Python console and type\"]\n",
    "# test_words = list(sent_to_words(test))\n",
    "# test_words = lemmatization(test_words, allowed_postags=['NOUN', 'ADJ', 'VERB', 'ADV'])\n",
    "# test_words = count_vect.transform(test_words)\n",
    "pred = model_OVR.predict(vectorizer.transform(test))\n",
    "print(pred)"
   ]
  },
  {
   "cell_type": "code",
   "execution_count": null,
   "metadata": {},
   "outputs": [],
   "source": []
  }
 ],
 "metadata": {
  "colab": {
   "provenance": [],
   "toc_visible": true
  },
  "kernelspec": {
   "display_name": "Python 3 (ipykernel)",
   "language": "python",
   "name": "python3"
  },
  "language_info": {
   "codemirror_mode": {
    "name": "ipython",
    "version": 3
   },
   "file_extension": ".py",
   "mimetype": "text/x-python",
   "name": "python",
   "nbconvert_exporter": "python",
   "pygments_lexer": "ipython3",
   "version": "3.9.13"
  },
  "toc": {
   "base_numbering": 1,
   "nav_menu": {},
   "number_sections": true,
   "sideBar": true,
   "skip_h1_title": false,
   "title_cell": "Table of Contents",
   "title_sidebar": "SOMMAIRE",
   "toc_cell": false,
   "toc_position": {},
   "toc_section_display": true,
   "toc_window_display": true
  }
 },
 "nbformat": 4,
 "nbformat_minor": 1
}
