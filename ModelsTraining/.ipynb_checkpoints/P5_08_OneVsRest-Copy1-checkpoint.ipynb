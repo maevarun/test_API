{
 "cells": [
  {
   "cell_type": "code",
   "execution_count": 1,
   "metadata": {
    "colab": {
     "base_uri": "https://localhost:8080/"
    },
    "id": "IEES-cFV3pm-",
    "outputId": "01928eea-1d39-416f-d06e-795bb54b7ce6"
   },
   "outputs": [
    {
     "name": "stderr",
     "output_type": "stream",
     "text": [
      "[nltk_data] Downloading package punkt to\n",
      "[nltk_data]     C:\\Users\\Maeva\\AppData\\Roaming\\nltk_data...\n",
      "[nltk_data]   Package punkt is already up-to-date!\n"
     ]
    }
   ],
   "source": [
    "import numpy as np\n",
    "import pandas as pd\n",
    "\n",
    "import matplotlib.pyplot as plt\n",
    "import seaborn as sns\n",
    "import re, nltk, spacy, gensim\n",
    "\n",
    "# Sklearn\n",
    "from sklearn.decomposition import NMF, LatentDirichletAllocation, TruncatedSVD\n",
    "from sklearn.feature_extraction.text import CountVectorizer, TfidfVectorizer\n",
    "from sklearn.model_selection import GridSearchCV\n",
    "from pprint import pprint\n",
    "\n",
    "import nltk\n",
    "import string\n",
    "from nltk.stem import WordNetLemmatizer\n",
    "from nltk.tokenize import sent_tokenize, word_tokenize\n",
    "nltk.download('punkt')\n",
    "\n",
    "from sklearn import cluster, metrics\n",
    "from sklearn import manifold, decomposition\n",
    "\n",
    "from sklearn.preprocessing import MultiLabelBinarizer\n",
    "from sklearn.model_selection import train_test_split\n",
    "\n",
    "from gensim.models.phrases import Phrases\n",
    "\n",
    "from sklearn.svm import SVC\n",
    "from sklearn.metrics import precision_score, recall_score, f1_score, accuracy_score, classification_report\n",
    "\n",
    "from sklearn.preprocessing import LabelEncoder, Normalizer\n",
    "from sklearn.pipeline import Pipeline\n",
    "from sklearn.multiclass import OneVsRestClassifier\n",
    "\n",
    "\n",
    "import time\n",
    "\n",
    "import pickle"
   ]
  },
  {
   "cell_type": "code",
   "execution_count": 2,
   "metadata": {
    "colab": {
     "base_uri": "https://localhost:8080/",
     "height": 441
    },
    "id": "RqvBvnOU3pp9",
    "outputId": "6223574b-f2f5-4f4d-f7bc-5e7f41f19fa0"
   },
   "outputs": [
    {
     "data": {
      "text/html": [
       "<div>\n",
       "<style scoped>\n",
       "    .dataframe tbody tr th:only-of-type {\n",
       "        vertical-align: middle;\n",
       "    }\n",
       "\n",
       "    .dataframe tbody tr th {\n",
       "        vertical-align: top;\n",
       "    }\n",
       "\n",
       "    .dataframe thead th {\n",
       "        text-align: right;\n",
       "    }\n",
       "</style>\n",
       "<table border=\"1\" class=\"dataframe\">\n",
       "  <thead>\n",
       "    <tr style=\"text-align: right;\">\n",
       "      <th></th>\n",
       "      <th>Unnamed: 0</th>\n",
       "      <th>Tags</th>\n",
       "      <th>BodyClean</th>\n",
       "      <th>TitleClean</th>\n",
       "      <th>FullPosts</th>\n",
       "      <th>numberOfTags</th>\n",
       "    </tr>\n",
       "  </thead>\n",
       "  <tbody>\n",
       "    <tr>\n",
       "      <th>0</th>\n",
       "      <td>4</td>\n",
       "      <td>python scripting</td>\n",
       "      <td>name main test script would like use module im...</td>\n",
       "      <td>python import initialize argparse name main</td>\n",
       "      <td>python import initialize argparse name main na...</td>\n",
       "      <td>2</td>\n",
       "    </tr>\n",
       "    <tr>\n",
       "      <th>1</th>\n",
       "      <td>5</td>\n",
       "      <td>git github</td>\n",
       "      <td>understand able disable pull request question ...</td>\n",
       "      <td>disable pull request github</td>\n",
       "      <td>disable pull request github understand able di...</td>\n",
       "      <td>2</td>\n",
       "    </tr>\n",
       "    <tr>\n",
       "      <th>2</th>\n",
       "      <td>11</td>\n",
       "      <td>laravel laravel</td>\n",
       "      <td>cant figure add header response used header gi...</td>\n",
       "      <td>add header response middleware</td>\n",
       "      <td>add header response middleware cant figure add...</td>\n",
       "      <td>2</td>\n",
       "    </tr>\n",
       "    <tr>\n",
       "      <th>3</th>\n",
       "      <td>19</td>\n",
       "      <td>python lambda</td>\n",
       "      <td>anyone behavior lambda function import x lambd...</td>\n",
       "      <td>lambda multiple statement python</td>\n",
       "      <td>lambda multiple statement python anyone behavi...</td>\n",
       "      <td>2</td>\n",
       "    </tr>\n",
       "    <tr>\n",
       "      <th>4</th>\n",
       "      <td>21</td>\n",
       "      <td>html css</td>\n",
       "      <td>container child one child dynamic width maximu...</td>\n",
       "      <td>moving element push adjacent element collide</td>\n",
       "      <td>moving element push adjacent element collide c...</td>\n",
       "      <td>2</td>\n",
       "    </tr>\n",
       "  </tbody>\n",
       "</table>\n",
       "</div>"
      ],
      "text/plain": [
       "   Unnamed: 0               Tags  \\\n",
       "0           4  python scripting    \n",
       "1           5        git github    \n",
       "2          11   laravel laravel    \n",
       "3          19     python lambda    \n",
       "4          21          html css    \n",
       "\n",
       "                                           BodyClean  \\\n",
       "0  name main test script would like use module im...   \n",
       "1  understand able disable pull request question ...   \n",
       "2  cant figure add header response used header gi...   \n",
       "3  anyone behavior lambda function import x lambd...   \n",
       "4  container child one child dynamic width maximu...   \n",
       "\n",
       "                                     TitleClean  \\\n",
       "0   python import initialize argparse name main   \n",
       "1                   disable pull request github   \n",
       "2                add header response middleware   \n",
       "3              lambda multiple statement python   \n",
       "4  moving element push adjacent element collide   \n",
       "\n",
       "                                           FullPosts  numberOfTags  \n",
       "0  python import initialize argparse name main na...             2  \n",
       "1  disable pull request github understand able di...             2  \n",
       "2  add header response middleware cant figure add...             2  \n",
       "3  lambda multiple statement python anyone behavi...             2  \n",
       "4  moving element push adjacent element collide c...             2  "
      ]
     },
     "execution_count": 2,
     "metadata": {},
     "output_type": "execute_result"
    }
   ],
   "source": [
    "sample_posts = pd.read_csv(\"data/subsetTop30Tags2.csv\", sep=\";\")\n",
    "sample_posts.head()"
   ]
  },
  {
   "cell_type": "code",
   "execution_count": 3,
   "metadata": {
    "colab": {
     "base_uri": "https://localhost:8080/"
    },
    "id": "WLkWfhZ17Zw1",
    "outputId": "c9f48c08-f01a-4d75-91c9-0a4621bd0c9c"
   },
   "outputs": [
    {
     "data": {
      "text/plain": [
       "(29044, 6)"
      ]
     },
     "execution_count": 3,
     "metadata": {},
     "output_type": "execute_result"
    }
   ],
   "source": [
    "sample_posts.shape"
   ]
  },
  {
   "cell_type": "code",
   "execution_count": 4,
   "metadata": {
    "colab": {
     "base_uri": "https://localhost:8080/",
     "height": 424
    },
    "id": "9w1Kgdrz7bW9",
    "outputId": "5d65bd33-4b7c-440a-bd09-f25ec7234d85"
   },
   "outputs": [
    {
     "data": {
      "text/html": [
       "<div>\n",
       "<style scoped>\n",
       "    .dataframe tbody tr th:only-of-type {\n",
       "        vertical-align: middle;\n",
       "    }\n",
       "\n",
       "    .dataframe tbody tr th {\n",
       "        vertical-align: top;\n",
       "    }\n",
       "\n",
       "    .dataframe thead th {\n",
       "        text-align: right;\n",
       "    }\n",
       "</style>\n",
       "<table border=\"1\" class=\"dataframe\">\n",
       "  <thead>\n",
       "    <tr style=\"text-align: right;\">\n",
       "      <th></th>\n",
       "      <th>Unnamed: 0</th>\n",
       "      <th>Tags</th>\n",
       "      <th>BodyClean</th>\n",
       "      <th>TitleClean</th>\n",
       "      <th>FullPosts</th>\n",
       "      <th>numberOfTags</th>\n",
       "    </tr>\n",
       "  </thead>\n",
       "  <tbody>\n",
       "    <tr>\n",
       "      <th>6269</th>\n",
       "      <td>38694</td>\n",
       "      <td>html css</td>\n",
       "      <td>simple list check box inside div give div fixe...</td>\n",
       "      <td>prevent wrapping element inside div</td>\n",
       "      <td>prevent wrapping element inside div simple lis...</td>\n",
       "      <td>2</td>\n",
       "    </tr>\n",
       "    <tr>\n",
       "      <th>22780</th>\n",
       "      <td>142207</td>\n",
       "      <td>javascript vuejs</td>\n",
       "      <td>total really obvious thing missing object load...</td>\n",
       "      <td>vuejs undefined error object value loaded rend...</td>\n",
       "      <td>vuejs undefined error object value loaded rend...</td>\n",
       "      <td>2</td>\n",
       "    </tr>\n",
       "    <tr>\n",
       "      <th>22327</th>\n",
       "      <td>139521</td>\n",
       "      <td>reactjs docker</td>\n",
       "      <td>docker build react application deploy set envi...</td>\n",
       "      <td>reading environment variable react set docker</td>\n",
       "      <td>reading environment variable react set docker ...</td>\n",
       "      <td>2</td>\n",
       "    </tr>\n",
       "    <tr>\n",
       "      <th>27574</th>\n",
       "      <td>175146</td>\n",
       "      <td>c c</td>\n",
       "      <td>wrapper around vector shape like template n n ...</td>\n",
       "      <td>function constructor accepts array rank</td>\n",
       "      <td>function constructor accepts array rank wrappe...</td>\n",
       "      <td>2</td>\n",
       "    </tr>\n",
       "    <tr>\n",
       "      <th>3875</th>\n",
       "      <td>23975</td>\n",
       "      <td>ios swift</td>\n",
       "      <td>would like initialize set value corresponding ...</td>\n",
       "      <td>set protocol swift</td>\n",
       "      <td>set protocol swift would like initialize set v...</td>\n",
       "      <td>2</td>\n",
       "    </tr>\n",
       "    <tr>\n",
       "      <th>...</th>\n",
       "      <td>...</td>\n",
       "      <td>...</td>\n",
       "      <td>...</td>\n",
       "      <td>...</td>\n",
       "      <td>...</td>\n",
       "      <td>...</td>\n",
       "    </tr>\n",
       "    <tr>\n",
       "      <th>27695</th>\n",
       "      <td>175993</td>\n",
       "      <td>angular typescript</td>\n",
       "      <td>way send pipe component component display data...</td>\n",
       "      <td>send pipe component</td>\n",
       "      <td>send pipe component way send pipe component co...</td>\n",
       "      <td>2</td>\n",
       "    </tr>\n",
       "    <tr>\n",
       "      <th>20054</th>\n",
       "      <td>125437</td>\n",
       "      <td>javascript reactjs</td>\n",
       "      <td>hey one question try modal open another compon...</td>\n",
       "      <td>open modal component reactjs</td>\n",
       "      <td>open modal component reactjs hey one question ...</td>\n",
       "      <td>2</td>\n",
       "    </tr>\n",
       "    <tr>\n",
       "      <th>16428</th>\n",
       "      <td>101923</td>\n",
       "      <td>python pandas</td>\n",
       "      <td>following panda col name name b col duplicate ...</td>\n",
       "      <td>transpose panda dataframe change column header...</td>\n",
       "      <td>transpose panda dataframe change column header...</td>\n",
       "      <td>2</td>\n",
       "    </tr>\n",
       "    <tr>\n",
       "      <th>18438</th>\n",
       "      <td>115547</td>\n",
       "      <td>php laravel</td>\n",
       "      <td>set value cache something like bar push sad va...</td>\n",
       "      <td>pushing value existing cache value laravel</td>\n",
       "      <td>pushing value existing cache value laravel set...</td>\n",
       "      <td>2</td>\n",
       "    </tr>\n",
       "    <tr>\n",
       "      <th>8510</th>\n",
       "      <td>52286</td>\n",
       "      <td>javascript jquery</td>\n",
       "      <td>purpose following code note second script code...</td>\n",
       "      <td>declare jquery twice</td>\n",
       "      <td>declare jquery twice purpose following code no...</td>\n",
       "      <td>2</td>\n",
       "    </tr>\n",
       "  </tbody>\n",
       "</table>\n",
       "<p>5000 rows × 6 columns</p>\n",
       "</div>"
      ],
      "text/plain": [
       "       Unnamed: 0                 Tags  \\\n",
       "6269        38694            html css    \n",
       "22780      142207    javascript vuejs    \n",
       "22327      139521      reactjs docker    \n",
       "27574      175146                 c c    \n",
       "3875        23975           ios swift    \n",
       "...           ...                  ...   \n",
       "27695      175993  angular typescript    \n",
       "20054      125437  javascript reactjs    \n",
       "16428      101923       python pandas    \n",
       "18438      115547         php laravel    \n",
       "8510        52286   javascript jquery    \n",
       "\n",
       "                                               BodyClean  \\\n",
       "6269   simple list check box inside div give div fixe...   \n",
       "22780  total really obvious thing missing object load...   \n",
       "22327  docker build react application deploy set envi...   \n",
       "27574  wrapper around vector shape like template n n ...   \n",
       "3875   would like initialize set value corresponding ...   \n",
       "...                                                  ...   \n",
       "27695  way send pipe component component display data...   \n",
       "20054  hey one question try modal open another compon...   \n",
       "16428  following panda col name name b col duplicate ...   \n",
       "18438  set value cache something like bar push sad va...   \n",
       "8510   purpose following code note second script code...   \n",
       "\n",
       "                                              TitleClean  \\\n",
       "6269                 prevent wrapping element inside div   \n",
       "22780  vuejs undefined error object value loaded rend...   \n",
       "22327      reading environment variable react set docker   \n",
       "27574            function constructor accepts array rank   \n",
       "3875                                  set protocol swift   \n",
       "...                                                  ...   \n",
       "27695                                send pipe component   \n",
       "20054                       open modal component reactjs   \n",
       "16428  transpose panda dataframe change column header...   \n",
       "18438         pushing value existing cache value laravel   \n",
       "8510                                declare jquery twice   \n",
       "\n",
       "                                               FullPosts  numberOfTags  \n",
       "6269   prevent wrapping element inside div simple lis...             2  \n",
       "22780  vuejs undefined error object value loaded rend...             2  \n",
       "22327  reading environment variable react set docker ...             2  \n",
       "27574  function constructor accepts array rank wrappe...             2  \n",
       "3875   set protocol swift would like initialize set v...             2  \n",
       "...                                                  ...           ...  \n",
       "27695  send pipe component way send pipe component co...             2  \n",
       "20054  open modal component reactjs hey one question ...             2  \n",
       "16428  transpose panda dataframe change column header...             2  \n",
       "18438  pushing value existing cache value laravel set...             2  \n",
       "8510   declare jquery twice purpose following code no...             2  \n",
       "\n",
       "[5000 rows x 6 columns]"
      ]
     },
     "execution_count": 4,
     "metadata": {},
     "output_type": "execute_result"
    }
   ],
   "source": [
    "sample_posts = sample_posts.sample(5000)\n",
    "sample_posts"
   ]
  },
  {
   "cell_type": "markdown",
   "metadata": {
    "id": "fhS9pLOinb6n"
   },
   "source": [
    "## Classifier"
   ]
  },
  {
   "cell_type": "code",
   "execution_count": 5,
   "metadata": {
    "colab": {
     "base_uri": "https://localhost:8080/"
    },
    "id": "SgxvWDox7sx2",
    "outputId": "0dbe7eb6-057c-475c-9bbb-45ce67583b59"
   },
   "outputs": [
    {
     "name": "stdout",
     "output_type": "stream",
     "text": [
      "[['prevent', 'wrapping', 'element', 'inside', 'div', 'simple', 'list', 'check', 'box', 'inside', 'div', 'give', 'div', 'fixed', 'width', 'label', 'check', 'box', 'go', 'line', 'retain', 'scroll', 'bar', 'user', 'hidden', 'part', 'want', 'say', 'use', 'seem', 'keep', 'getting', 'list', 'label', 'going', 'line', 'instead', 'hidden', 'thought', 'would', 'fix', 'instead', 'expanded', 'width', 'div', 'show', 'rest', 'label', 'div', 'input', 'input', 'input', 'input', 'div', 'question', 'give', 'div', 'fixed', 'width', 'label', 'check', 'box', 'go', 'line', 'retain', 'scroll', 'bar'], ['vuejs', 'undefined', 'error', 'object', 'value', 'loaded', 'rendered', 'total', 'really', 'obvious', 'thing', 'missing', 'object', 'loaded', 'via', 'call', 'inside', 'mounted', 'method', 'job', 'title', 'value', 'location', 'call', 'good', 'call', 'undefined', 'error', 'value', 'render', 'call', 'get', 'object', 'defined', 'sure', 'really', 'simple', 'cant', 'possibly', 'straight', 'forward', 'additional', 'entire', 'class', 'router', 'new', 'mode', 'history', 'route', 'new', 'router', 'el', 'data', 'job', 'mounted', 'function', 'method', 'get', 'success', 'function', 'data', 'data', 'error', 'function', 'error', 'function', 'return'], ['reading', 'environment', 'variable', 'react', 'set', 'docker', 'docker', 'build', 'react', 'application', 'deploy', 'set', 'environment', 'variable', 'version', 'service', 'environment', 'build', 'context', 'port', 'docker', 'container', 'hi', 'echo', 'variable', 'inside', 'container', 'however', 'read', 'react', 'logging', 'undefined', 'read', 'somewhere', 'variable', 'production', 'environment', 'since', 'building', 'able', 'access', 'reason', 'able', 'read', 'something', 'fundamentally', 'wrong', 'please', 'let', 'solution', 'react', 'expert', 'someone', 'el', 'code', 'update', 'look', 'node', 'copy', 'run', 'install', 'run', 'run', 'build', 'copy', 'daemon', 'react', 'component', 'snippet', 'import', 'react', 'component', 'react', 'class', 'component', 'render', 'return', 'div', 'div', 'export', 'default']]\n"
     ]
    }
   ],
   "source": [
    "def sent_to_words(sentences):\n",
    "    for sentence in sentences:\n",
    "        yield(gensim.utils.simple_preprocess(str(sentence), deacc=True))  # deacc=True removes punctuations\n",
    "\n",
    "data_words = list(sent_to_words(sample_posts.FullPosts))\n",
    "\n",
    "print(data_words[:3])"
   ]
  },
  {
   "cell_type": "code",
   "execution_count": 6,
   "metadata": {
    "colab": {
     "base_uri": "https://localhost:8080/"
    },
    "id": "S1roj3F47w62",
    "outputId": "faafe11c-4713-4b81-9fac-1c1634001996"
   },
   "outputs": [
    {
     "name": "stdout",
     "output_type": "stream",
     "text": [
      "['prevent wrap element simple list check box give fix check go line retain scroll bar user hide part want say use seem keep get list label go line instead hide thought fix instead expand rest label input input input input div question fix check go line retain scroll bar', 'vuejs undefine error object value load render total really obvious thing miss object load call inside mount method job title value location call good call undefined error value render call get object define sure really simple possibly straight forward additional entire class router new mode history route new job mount function method get success function datum datum error function error function return']\n"
     ]
    }
   ],
   "source": [
    "def lemmatization(texts, allowed_postags=['NOUN', 'ADJ', 'VERB', 'ADV']):\n",
    "    \n",
    "    texts_out = []\n",
    "    for sent in texts:\n",
    "        doc = nlp(\" \".join(sent)) \n",
    "        texts_out.append(\" \".join([token.lemma_ if token.lemma_ not in ['-PRON-'] else '' for token in doc if token.pos_ in allowed_postags]))\n",
    "    return texts_out\n",
    "\n",
    "# Initialize spacy 'en' model, keeping only tagger component (for efficiency)\n",
    "# Run in terminal: python3 -m spacy download en\n",
    "nlp = spacy.load('en_core_web_sm', disable=['parser', 'ner'])\n",
    "\n",
    "# Do lemmatization keeping only Noun, Adj, Verb, Adverb\n",
    "data_lemmatized = lemmatization(data_words, allowed_postags=['NOUN', 'ADJ', 'VERB', 'ADV'])\n",
    "\n",
    "print(data_lemmatized[:2])"
   ]
  },
  {
   "cell_type": "code",
   "execution_count": 7,
   "metadata": {
    "id": "hV6PeqwG-VV3"
   },
   "outputs": [
    {
     "name": "stdout",
     "output_type": "stream",
     "text": [
      "['abbreviation' 'ability' 'able' ... 'zip' 'zone' 'zoom']\n"
     ]
    }
   ],
   "source": [
    "vectorizer = CountVectorizer(analyzer='word',       \n",
    "                             min_df=2,                        # minimum reqd occurences of a word \n",
    "                             stop_words='english',             # remove stop words\n",
    "                             lowercase=True,                   # convert all words to lowercase\n",
    "                             token_pattern='[a-zA-Z0-9]{3,}',  # num chars > 3\n",
    "                             max_features=50000             # max number of uniq words\n",
    "                            )\n",
    "\n",
    "data_vectorized = vectorizer.fit_transform(data_lemmatized)\n",
    "print(vectorizer.get_feature_names_out())\n",
    "# print(vectorizer.transform(data_lemmatized))"
   ]
  },
  {
   "cell_type": "code",
   "execution_count": 8,
   "metadata": {},
   "outputs": [
    {
     "name": "stdout",
     "output_type": "stream",
     "text": [
      "  (0, 2382)\t1\n",
      "  (0, 3605)\t1\n",
      "  (0, 989)\t1\n",
      "  (0, 2903)\t1\n",
      "  (0, 1777)\t2\n",
      "  (0, 439)\t3\n",
      "  (0, 329)\t1\n",
      "  (0, 1195)\t3\n",
      "  (0, 1769)\t3\n",
      "  (0, 2690)\t2\n",
      "  (0, 2790)\t2\n",
      "  (0, 252)\t2\n",
      "  (0, 3471)\t1\n",
      "  (0, 1420)\t2\n",
      "  (0, 3548)\t1\n",
      "  (0, 2762)\t1\n",
      "  (0, 3466)\t1\n",
      "  (0, 1712)\t2\n",
      "  (0, 1606)\t2\n",
      "  (0, 3246)\t1\n",
      "  (0, 1086)\t1\n",
      "  (0, 2678)\t1\n",
      "  (0, 1582)\t4\n",
      "  (0, 906)\t1\n",
      "  (0, 2487)\t1\n",
      "  :\t:\n",
      "  (4997, 748)\t1\n",
      "  (4997, 1224)\t1\n",
      "  (4997, 1400)\t3\n",
      "  (4997, 966)\t1\n",
      "  (4997, 3024)\t1\n",
      "  (4997, 1471)\t1\n",
      "  (4997, 3315)\t2\n",
      "  (4998, 252)\t2\n",
      "  (4998, 3488)\t6\n",
      "  (4998, 2849)\t1\n",
      "  (4998, 1700)\t1\n",
      "  (4998, 2462)\t3\n",
      "  (4998, 1718)\t1\n",
      "  (4998, 1083)\t1\n",
      "  (4998, 374)\t3\n",
      "  (4998, 2743)\t2\n",
      "  (4999, 2802)\t1\n",
      "  (4999, 2062)\t1\n",
      "  (4999, 503)\t2\n",
      "  (4999, 1224)\t1\n",
      "  (4999, 2789)\t2\n",
      "  (4999, 768)\t1\n",
      "  (4999, 2461)\t1\n",
      "  (4999, 1518)\t1\n",
      "  (4999, 3348)\t1\n"
     ]
    }
   ],
   "source": [
    "print(data_vectorized)"
   ]
  },
  {
   "cell_type": "code",
   "execution_count": 9,
   "metadata": {
    "colab": {
     "base_uri": "https://localhost:8080/"
    },
    "id": "7ctub2lh-WHF",
    "outputId": "d9a780fd-f328-4170-ed87-7c82738aca2e"
   },
   "outputs": [
    {
     "name": "stdout",
     "output_type": "stream",
     "text": [
      "Sparsicity:  0.6492443463872035 %\n"
     ]
    }
   ],
   "source": [
    "# Materialize the sparse data\n",
    "data_dense = data_vectorized.todense()\n",
    "\n",
    "# Compute Sparsicity = Percentage of Non-Zero cells\n",
    "print(\"Sparsicity: \", ((data_dense > 0).sum()/data_dense.size)*100, \"%\")"
   ]
  },
  {
   "cell_type": "code",
   "execution_count": 10,
   "metadata": {
    "id": "4j6g6NLt-VYh"
   },
   "outputs": [],
   "source": [
    "X = sample_posts[\"FullPosts\"]\n",
    "y = sample_posts[\"Tags\"]"
   ]
  },
  {
   "cell_type": "code",
   "execution_count": 11,
   "metadata": {
    "id": "qGKMa-s3-Vd2"
   },
   "outputs": [],
   "source": [
    "# Split from the loaded dataset\n",
    "X_train, X_test, y_train, y_test = train_test_split(X, y, test_size=0.2, shuffle=True)"
   ]
  },
  {
   "cell_type": "code",
   "execution_count": 12,
   "metadata": {
    "colab": {
     "base_uri": "https://localhost:8080/"
    },
    "id": "8azZh8pJ-VgQ",
    "outputId": "2a54cabc-9dfa-4691-ce69-0c9d64f2fe78"
   },
   "outputs": [
    {
     "name": "stdout",
     "output_type": "stream",
     "text": [
      "X_train shape : (4000,)\n",
      "X_test shape : (1000,)\n",
      "y_train shape : (4000,)\n",
      "y_test shape : (1000,)\n"
     ]
    }
   ],
   "source": [
    "print(\"X_train shape : {}\".format(X_train.shape))\n",
    "print(\"X_test shape : {}\".format(X_test.shape))\n",
    "print(\"y_train shape : {}\".format(y_train.shape))\n",
    "print(\"y_test shape : {}\".format(y_test.shape))"
   ]
  },
  {
   "cell_type": "code",
   "execution_count": 13,
   "metadata": {},
   "outputs": [],
   "source": [
    "X_train = vectorizer.fit_transform(X_train)\n",
    "X_test = vectorizer.transform(X_test)"
   ]
  },
  {
   "cell_type": "code",
   "execution_count": 14,
   "metadata": {
    "id": "ozowjI5oAmUO"
   },
   "outputs": [],
   "source": [
    "def lsa_reduction(X_train, X_test, n_comp=120):\n",
    "    svd = TruncatedSVD(n_components=n_comp)\n",
    "    normalizer = Normalizer()\n",
    "    \n",
    "    lsa_pipe = Pipeline([('svd', svd),\n",
    "                        ('normalize', normalizer)]).fit(X_train)\n",
    "    \n",
    "    train_reduced = lsa_pipe.transform(X_train)\n",
    "    test_reduced = lsa_pipe.transform(X_test)\n",
    "    return train_reduced, test_reduced"
   ]
  },
  {
   "cell_type": "code",
   "execution_count": 15,
   "metadata": {
    "id": "5KzckcpBAmh2"
   },
   "outputs": [],
   "source": [
    "from sklearn.svm import LinearSVC\n",
    "from sklearn.linear_model import LogisticRegression\n",
    "svc = SVC(kernel='linear')\n",
    "modelLR = LogisticRegression()"
   ]
  },
  {
   "cell_type": "code",
   "execution_count": 16,
   "metadata": {},
   "outputs": [],
   "source": [
    "# X_train = vectorizer.fit_transform(X_train)\n",
    "# y_train = vectorizer.fit_transform(y_train)\n",
    "# X_test = vectorizer.transform(X_test)\n",
    "# y_test = vectorizer.transform(y_test)"
   ]
  },
  {
   "cell_type": "code",
   "execution_count": 17,
   "metadata": {
    "colab": {
     "base_uri": "https://localhost:8080/"
    },
    "id": "qzOmVWeKAm8c",
    "outputId": "ee52b934-2d40-4103-f44a-3beb941859ea"
   },
   "outputs": [],
   "source": [
    "# One vs Restclassifier\n",
    "# model_OVR = OneVsRestClassifier(LinearSVC(random_state=0)).fit(X_train, y_train)\n",
    "# model_OVR = OneVsRestClassifier(svc).fit(X_train, y_train)\n",
    "model_OVR = OneVsRestClassifier(svc).fit(X_train, y_train)"
   ]
  },
  {
   "cell_type": "code",
   "execution_count": 18,
   "metadata": {},
   "outputs": [],
   "source": [
    "pickle.dump(model_OVR, open('../ModelsAPI/model_OVR.pkl','wb'))"
   ]
  },
  {
   "cell_type": "code",
   "execution_count": 19,
   "metadata": {
    "id": "y954yzKzEVi-"
   },
   "outputs": [
    {
     "name": "stdout",
     "output_type": "stream",
     "text": [
      "['python tensorflow ' 'git gitclone ' 'angular typescript '\n",
      " 'visualstudio visualstudio ' 'python numpy ' 'python pandas ' 'html css '\n",
      " 'python list ' 'python numpy ' 'dart flutter ' 'javascript jquery '\n",
      " 'angular typescript ' 'python pytest ' 'python django '\n",
      " 'git gitsubmodules ' 'angular typescript ' 'python python '\n",
      " 'angular typescript ' 'python date ' 'javascript reactjs '\n",
      " 'dart flutter ' 'javascript vuejs ' 'c c ' 'html css ' 'python pipe '\n",
      " 'python matplotlib ' 'python tensorflow ' 'javascript reactjs '\n",
      " 'python openai ' 'c c ' 'python scikitlearn ' 'css html '\n",
      " 'javascript angular ' 'javascript angular ' 'java android '\n",
      " 'javascript vuejs ' 'html css ' 'javascript reactjs '\n",
      " 'python pythonsphinx ' 'ios xcode ' 'python pandas ' 'python fork '\n",
      " 'python pandas ' 'docker githubactions ' 'python paramiko '\n",
      " 'javascript reactjs ' 'python namedtuple ' 'javascript python '\n",
      " 'python numpy ' 'javascript angular ' 'python pythonx '\n",
      " 'python unittesting ' 'python urllib ' 'git azuredevops '\n",
      " 'python namedtuple ' 'angular typescript ' 'python matplotlib '\n",
      " 'python pandas ' 'python numpy ' 'python seaborn ' 'python c '\n",
      " 'javascript reactjs ' 'postgresql docker ' 'python tensorflow '\n",
      " 'html css ' 'c visualstudio ' 'eloquent laravel ' 'dart flutter '\n",
      " 'python tuples ' 'python importerror ' 'python discordpy ' 'php laravel '\n",
      " 'python pandas ' 'visualstudio visualstudio ' 'c c ' 'git bitbucket '\n",
      " 'python djangorestframework ' 'git gitdiff ' 'html css '\n",
      " 'python scikitlearn ' 'php laravel ' 'python numpy ' 'swift swift '\n",
      " 'javascript nodejs ' 'javascript typescript ' 'javascript reactjs '\n",
      " 'ios xcode ' 'c c ' 'python argparse ' 'python matplotlib '\n",
      " 'python pandas ' 'php laravel ' 'ios swift ' 'python tkinter '\n",
      " 'python pandas ' 'git gitsubmodules ' 'ios swift ' 'python matplotlib '\n",
      " 'python pythonimaginglibrary ' 'angular typescript ' 'c c ' 'ios xcode '\n",
      " 'python seaborn ' 'git azuredevops ' 'java java ' 'javascript reactjs '\n",
      " 'git github ' 'html css ' 'javascript jquery ' 'javascript typescript '\n",
      " 'python timeit ' 'typescript typescriptgenerics ' 'python pythonx '\n",
      " 'python pythonto ' 'typescript reactjs ' 'python matplotlib '\n",
      " 'laravel laravel ' 'angular typescript ' 'javascript jquery '\n",
      " 'python tensorflow ' 'javascript vuejs ' 'python matplotlib '\n",
      " 'python pythonrequests ' 'vuejs vuejs ' 'html css '\n",
      " 'visualstudio visualstudio ' 'java android ' 'javascript typescript '\n",
      " 'objectivec ios ' 'git gitlog ' 'c c ' 'python csv ' 'ios angular '\n",
      " 'typescript angular ' 'python lxml ' 'regex python ' 'javascript nodejs '\n",
      " 'javascript reactjs ' 'html css ' 'visualstudio visualstudio '\n",
      " 'python pandas ' 'javascript html ' 'ios swift ' 'objectivec xcode '\n",
      " 'python python ' 'javascript reactjs ' 'dart flutter ' 'git gitmerge '\n",
      " 'github githubforwindows ' 'c c ' 'git github ' 'github githubactions '\n",
      " 'c c ' 'python googlecolaboratory ' 'python pip ' 'python matplotlib '\n",
      " 'python pandas ' 'git github ' 'git abbreviation ' 'git file '\n",
      " 'python ipython ' 'javascript reactjs ' 'javascript html ' 'git github '\n",
      " 'html css ' 'typescript typescript ' 'python list '\n",
      " 'javascript typescript ' 'javascript html ' 'python datetime '\n",
      " 'python elasticsearch ' 'c c ' 'json angular ' 'javascript reactjs '\n",
      " 'html css ' 'python zip ' 'javascript typescript ' 'python pandas '\n",
      " 'javascript nodejs ' 'angular angular ' 'python function ' 'git merge '\n",
      " 'c c ' 'angular typescript ' 'python logging ' 'python typehinting '\n",
      " 'python logging ' 'angular typescript ' 'python pythonx '\n",
      " 'javascript reactjs ' 'python opencv ' 'c aspnetcore '\n",
      " 'visualstudio visualstudio ' 'python pythonx ' 'html css '\n",
      " 'visualstudio visualstudio ' 'objectivec xcode ' 'python pythonx '\n",
      " 'java android ' 'javascript jquery ' 'styles angular ' 'python pip '\n",
      " 'javascript nodejs ' 'python metaclass ' 'python flask '\n",
      " 'python pydantic ' 'python ordereddictionary ' 'ios swift '\n",
      " 'java android ' 'javascript angular ' 'php laravel ' 'dart flutter '\n",
      " 'c aspnetcore ' 'java android ' 'python mlflow ' 'javascript jquery '\n",
      " 'python pandas ' 'dart flutter ' 'mysql docker ' 'python tkinter '\n",
      " 'python format ' 'python airflow ' 'python numpy ' 'html css '\n",
      " 'javascript reactjs ' 'python djangorestframework ' 'python pandas '\n",
      " 'python regex ' 'c aspnetcore ' 'aspnetcore aspnetcore ' 'git github '\n",
      " 'python multiprocessing ' 'python pickle '\n",
      " 'python pythonmultiprocessing ' 'python substring ' 'javascript jquery '\n",
      " 'python pythonimport ' 'dart flutter ' 'python pandas ' 'python csv '\n",
      " 'python inheritance ' 'python matplotlib ' 'python numpy '\n",
      " 'c aspnetcore ' 'javascript vuejs ' 'python lambda '\n",
      " 'javascript typescript ' 'python pandas ' 'git gitdiff ' 'ios swift '\n",
      " 'ios xcode ' 'python plotly ' 'javascript html ' 'python flake '\n",
      " 'java android ' 'ios swift ' 'python tensorflow ' 'javascript jquery '\n",
      " 'angular typescript ' 'html css ' 'git github ' 'python caffe '\n",
      " 'python django ' 'javascript jquery ' 'javascript jquery '\n",
      " 'javascript nodejs ' 'git svn ' 'git github ' 'python pycharm '\n",
      " 'python pandas ' 'python googlebigquery ' 'angular typescript '\n",
      " 'python googlecloudvision ' 'windows git ' 'python pandas ' 'ios swift '\n",
      " 'javascript reactjs ' 'python pandas ' 'angularjs angular '\n",
      " 'git branchingandmerging ' 'ios swift ' 'reactjs typescript '\n",
      " 'vuejs vuejs ' 'javascript jquery ' 'java java ' 'python xlrd '\n",
      " 'angularjs angular ' 'python networkx ' 'python pytorch '\n",
      " 'javascript typescript ' 'dart flutter ' 'visualstudio visualstudio '\n",
      " 'angular angular ' 'python pythonattrs ' 'regex r ' 'java java '\n",
      " 'php laravel ' 'python pandas ' 'javascript reactjs ' 'python pi '\n",
      " 'dart flutter ' 'python django ' 'javascript reactjs ' 'html css '\n",
      " 'python pandas ' 'javascript jquery ' 'python flask ' 'python python '\n",
      " 'angular typescript ' 'python django ' 'python pandas ' 'python numpy '\n",
      " 'python numpy ' 'python numpy ' 'css cssgrid ' 'javascript jquery '\n",
      " 'python reduce ' 'objectivec xcode ' 'objectivec ios ' 'vuejs vuejs '\n",
      " 'c c ' 'python date ' 'javascript reactjs ' 'ios swift ' 'python numpy '\n",
      " 'html css ' 'java android ' 'python argparse ' 'html css ' 'java java '\n",
      " 'python pandas ' 'python gdal ' 'python numpy ' 'html css '\n",
      " 'javascript vuejs ' 'dart flutter ' 'python flask ' 'java spring '\n",
      " 'python substring ' 'php laravel ' 'python pandas ' 'python django '\n",
      " 'css angular ' 'ios xcode ' 'python pandas ' 'python tensorflow '\n",
      " 'php laravel ' 'gitlab gitlabci ' 'javascript nodejs ' 'c visualstudio '\n",
      " 'php laravel ' 'javascript html ' 'javascript nodejs ' 'python django '\n",
      " 'python sqlite ' 'github githubactions ' 'typescript typescriptgenerics '\n",
      " 'python pandas ' 'python pandas ' 'angular typescript ' 'python pytest '\n",
      " 'java android ' 'javascript typescript ' 'python pandas '\n",
      " 'python lightgbm ' 'nodejs angular ' 'html css ' 'c c '\n",
      " 'javascript typescript ' 'dart flutter ' 'python pythonrequests '\n",
      " 'python pandas ' 'python django ' 'c aspnetcore ' 'ios swift '\n",
      " 'python conda ' 'angular typescript ' 'python mocking ' 'python pytest '\n",
      " 'javascript reactjs ' 'ios swift ' 'javascript reactjs ' 'python typing '\n",
      " 'python pip ' 'java android ' 'python pandas '\n",
      " 'typescript typescripttypings ' 'git github ' 'html css '\n",
      " 'angular angular ' 'git gitadd ' 'html css ' 'javascript typescript '\n",
      " 'html css ' 'python regex ' 'python beautifulsoup ' 'python django '\n",
      " 'python pandas ' 'python cython ' 'git gitextensions ' 'python lambda '\n",
      " 'python django ' 'python pythonrequests ' 'angular typescript '\n",
      " 'python pythonx ' 'python csv ' 'python flask ' 'python requirementstxt '\n",
      " 'git gitcommit ' 'python pythonx ' 'javascript html '\n",
      " 'git branchingandmerging ' 'git flutter ' 'python pythonx ' 'html css '\n",
      " 'python opencv ' 'swift swift ' 'angular typescript ' 'python python '\n",
      " 'python pip ' 'python pythonx ' 'python pythonarrow ' 'git gitlab '\n",
      " 'javascript vuejs ' 'javascript angular ' 'python pandas '\n",
      " 'python statsmodels ' 'c c ' 'ios swift ' 'python numpy '\n",
      " 'windows gitcrypt ' 'angular typescript ' 'git commandlineinterface '\n",
      " 'python numpy ' 'visualstudio visualstudio ' 'python plotly '\n",
      " 'python pandas ' 'python scala ' 'javascript reactjs ' 'ubuntu docker '\n",
      " 'javascript html ' 'git visualstudiocode ' 'javascript reactjs ' 'c c '\n",
      " 'python opencv ' 'c c ' 'python pydantic ' 'javascript reactjs '\n",
      " 'python keras ' 'github githubactions ' 'git gitsubtree ' 'git rebase '\n",
      " 'python pandas ' 'ios xcode ' 'python django ' 'python selenium '\n",
      " 'python python ' 'python list ' 'javascript reactjs ' 'php docker '\n",
      " 'python pandas ' 'python pandas ' 'git gitcommit ' 'python pandas '\n",
      " 'javascript jquery ' 'python pandas ' 'python numpy ' 'dart flutter '\n",
      " 'python pandas ' 'python pytorch ' 'python matlab ' 'javascript reactjs '\n",
      " 'session aspnetcore ' 'python pythonx ' 'python pandas ' 'html css '\n",
      " 'javascript jquery ' 'git gitpostreceive ' 'python django '\n",
      " 'git gitstash ' 'html css ' 'javascript reactjs ' 'git gitclone '\n",
      " 'python pythonx ' 'typescript typescripttypings ' 'javascript reactjs '\n",
      " 'python pythonattrs ' 'javascript vuejs ' 'ios xcode '\n",
      " 'javascript reactjs ' 'python inheritance ' 'c aspnetcore '\n",
      " 'python tensorflow ' 'html css ' 'git merge ' 'python pip '\n",
      " 'python generator ' 'dart flutter ' 'php laravel ' 'python pythonx '\n",
      " 'javascript reactjs ' 'collections java ' 'python matplotlib ' 'c c '\n",
      " 'git visualstudiocode ' 'python beautifulsoup ' 'javascript html '\n",
      " 'python ubuntu ' 'vuejs vuejs ' 'python pythonx ' 'python lxml '\n",
      " 'javascript nodejs ' 'python dictionary ' 'netbeans reactjs '\n",
      " 'visualstudio visualstudio ' 'python opencv ' 'html css '\n",
      " 'python matplotlib ' 'git gitstash ' 'python youtubedl '\n",
      " 'python pythonx ' 'python brackets ' 'python numpy '\n",
      " 'python multiprocessing ' 'javascript reactjs ' 'python requirementstxt '\n",
      " 'c c ' 'c aspnetcore ' 'python pyspark ' 'python doc '\n",
      " 'github githubapi ' 'javascript reactjs ' 'html css ' 'c aspnetcore '\n",
      " 'python list ' 'html css ' 'python forecasting ' 'python numpy '\n",
      " 'css cssselectors ' 'php docker ' 'javascript reactjs ' 'python pandas '\n",
      " 'javascript jquery ' 'javascript jquery ' 'git merge ' 'python python '\n",
      " 'python tensorflow ' 'python generator ' 'dart flutter '\n",
      " 'laravel laravel ' 'styles angular ' 'git gitdiff ' 'c aspnetcore '\n",
      " 'javascript vuejs ' 'javascript typescript ' 'python crc '\n",
      " 'python django ' 'c c ' 'mysql nodejs ' 'javascript reactjs '\n",
      " 'python range ' 'javascript reactjs ' 'python pygame '\n",
      " 'python simplehttpserver ' 'python list ' 'c c ' 'java java ' 'html css '\n",
      " 'python pythonx ' 'python numpy ' 'python pythonx ' 'angular typescript '\n",
      " 'python pandas ' 'javascript vuejs ' 'python pytest ' 'python uwsgi '\n",
      " 'git gitclone ' 'python pythonattrs ' 'javascript jquery ' 'java spring '\n",
      " 'python celery ' 'python googlecloudvision ' 'javascript reactjs '\n",
      " 'git visualstudiocode ' 'jquery laravel ' 'c aspnetcore '\n",
      " 'git visualstudiocode ' 'python numpy ' 'python algorithm '\n",
      " 'python regex ' 'python list ' 'javascript reactjs ' 'python amazons '\n",
      " 'javascript html ' 'javascript reactjs ' 'ios swift ' 'c aspnetcore '\n",
      " 'python matplotlib ' 'python numpy ' 'git undo ' 'python pythonx '\n",
      " 'python pythonx ' 'python pythonx ' 'python pandas ' 'python pythonx '\n",
      " 'python zip ' 'c aspnetcore ' 'ios swift ' 'python pandas '\n",
      " 'javascript vuejs ' 'javascript html ' 'python flask ' 'python pandas '\n",
      " 'laravel laravel ' 'reactjs typescript ' 'c visualstudio ' 'python list '\n",
      " 'objectivec json ' 'javascript angular ' 'java android ' 'python pandas '\n",
      " 'python ansible ' 'python numpy ' 'python excel ' 'dart flutter '\n",
      " 'python pandas ' 'reactjs typescript ' 'php laravel '\n",
      " 'angular typescript ' 'git gitstash ' 'python pandas '\n",
      " 'python unittesting ' 'python pandas ' 'java json ' 'python pythonx '\n",
      " 'python jupyternotebook ' 'typescript typescriptgenerics '\n",
      " 'css cssvariables ' 'python pythonx ' 'python websocket '\n",
      " 'python pythonrequests ' 'python pythonx ' 'java android ' 'ios xcode '\n",
      " 'python selenium ' 'php laravel ' 'java android ' 'python numpy '\n",
      " 'python django ' 'python opencv ' 'c aspnetcore ' 'ios xcode '\n",
      " 'python tensorflow ' 'visualstudio visualstudio ' 'java android '\n",
      " 'python fileio ' 'javascript html ' 'c visualstudio ' 'c c ' 'html css '\n",
      " 'python pandas ' 'ios xcode ' 'python django ' 'python mypy '\n",
      " 'javascript reactjs ' 'python tensorflow ' 'python pythonx '\n",
      " 'python datetime ' 'python opencv ' 'python pythonx ' 'mysql docker '\n",
      " 'python multithreading ' 'python seaborn ' 'dart flutter '\n",
      " 'python sqlalchemy ' 'ios swift ' 'javascript json ' 'python pandas '\n",
      " 'git gitlog ' 'dart flutter ' 'python pythonrequests ' 'javascript html '\n",
      " 'php docker ' 'python django ' 'git visualstudiocode '\n",
      " 'python pythonimport ' 'angular typescript ' 'python pytest '\n",
      " 'python selenium ' 'python matplotlib ' 'json python '\n",
      " 'javascript angular ' 'git github ' 'javascript reactjs '\n",
      " 'javascript reactjs ' 'ios swift ' 'ios xcode ' 'dart flutter '\n",
      " 'python python ' 'python pythonx ' 'javascript reactjs '\n",
      " 'python matplotlib ' 'dart flutter ' 'python pythonx ' 'java android '\n",
      " 'javascript jquery ' 'git gitlfs ' 'python django ' 'git rebase '\n",
      " 'python logging ' 'java android ' 'java amazonwebservices '\n",
      " 'python pandas ' 'ios swift ' 'dart flutter ' 'python unittesting '\n",
      " 'javascript nodejs ' 'git gitignore ' 'python pythonx ' 'python sqlite '\n",
      " 'security docker ' 'python pythonx ' 'android firebase ' 'ios swift '\n",
      " 'javascript reactjs ' 'css reactjs ' 'python nonetype ' 'c aspnetcore '\n",
      " 'python jupyternotebook ' 'docker githubactions ' 'angular typescript '\n",
      " 'c c ' 'json r ' 'python opencv ' 'python jupyternotebook '\n",
      " 'windows docker ' 'python unittesting ' 'python django ' 'python pyenv '\n",
      " 'github repository ' 'javascript html ' 'angular typescript '\n",
      " 'ios swift ' 'javascript reactjs ' 'javascript typescript '\n",
      " 'git gitsubmodules ' 'c c ' 'git visualstudiocode ' 'php docker '\n",
      " 'python numpy ' 'python pycharm ' 'json swift ' 'ios xcode '\n",
      " 'python pandas ' 'javascript vuejs ' 'python scikitlearn ' 'python csv '\n",
      " 'git github ' 'javascript angular ' 'git github ' 'ios xcode '\n",
      " 'cocoatouch swift ' 'python regex ' 'python csv ' 'php laravel '\n",
      " 'git github ' 'python pandas ' 'dart flutter ' 'java java '\n",
      " 'python pandas ' 'python pythonx ' 'ios swift '\n",
      " 'visualstudio visualstudio ' 'c c ' 'javascript reactjs '\n",
      " 'angular typescript ' 'javascript jquery ' 'html css ' 'python pytorch '\n",
      " 'python pylint ' 'c c ' 'html css ' 'python locale ' 'ios xcode '\n",
      " 'python tensorflow ' 'javascript jquery ' 'javascript reactjs '\n",
      " 'git github ' 'javascript html ' 'python pandas '\n",
      " 'python djangorestframework ' 'javascript vuejs ' 'html css '\n",
      " 'python bottle ' 'python pythonrequests ' 'angular typescript '\n",
      " 'forms angular ' 'ios swift ' 'ios swift ' 'php laravel '\n",
      " 'python pandas ' 'python string ' 'angular typescript ' 'python pythonx '\n",
      " 'swift ios ' 'ios swift ' 'python commandlinearguments ' 'python django '\n",
      " 'python pythonx ' 'windows docker ' 'aspnetcore visualstudio '\n",
      " 'python pandas ' 'c c ' 'javascript nodejs ' 'python pandas '\n",
      " 'github markdown ' 'python pythonx ' 'ios xcode ' 'python pipe '\n",
      " 'html css ' 'aspnetcore visualstudio ' 'javascript nodejs '\n",
      " 'python substring ' 'hex python ' 'python pythonx ' 'ios swift '\n",
      " 'javascript reactjs ' 'python pandas ' 'c c ' 'python numpy '\n",
      " 'python pythonx ' 'ios swift ' 'python pyspark ' 'javascript vuejs '\n",
      " 'c aspnetcore ' 'github githubdesktop ' 'angular typescript '\n",
      " 'python pandas ' 'python matplotlib ' 'python sqlite ' 'python pythonx '\n",
      " 'ios xcode ' 'python pandas ' 'javascript nodejs ' 'angular typescript '\n",
      " 'dart flutter ' 'javascript jquery ' 'ios swift ' 'python django '\n",
      " 'ios swift ' 'php laravel ' 'ios swift ' 'python pandas '\n",
      " 'python simplehttpserver ' 'javascript jquery ' 'git github '\n",
      " 'javascript jquery ' 'ios swift ' 'c c ' 'ios swift '\n",
      " 'reactjs typescript ' 'python multiprocessing ' 'html css '\n",
      " 'git azuredevops ' 'github githubapi ' 'swift swift '\n",
      " 'reactredux reactjs ' 'python jupyternotebook ' 'javascript reactjs '\n",
      " 'javascript reactjs ' 'checkbox angular ' 'laravel laravel '\n",
      " 'python matplotlib ' 'python googlebigquery ' 'git github '\n",
      " 'python function ' 'javascript jquery ' 'windows gitcrypt ' 'html css '\n",
      " 'c c ' 'javascript typescript ' 'visualstudio visualstudio ' 'c c '\n",
      " 'python tensorflow ' 'python python ' 'php laravel ' 'git gitsvn '\n",
      " 'python pandas ' 'python pythonx ' 'python django ' 'javascript jquery '\n",
      " 'python json ' 'angular typescript ' 'git github ' 'python django '\n",
      " 'c c ' 'git macos ' 'dart flutter ' 'python division '\n",
      " 'javascript reactjs ' 'git gitstash ' 'c c ' 'angular typescript '\n",
      " 'python pytorch ' 'python matplotlib ' 'dart flutter '\n",
      " 'javascript reactjs ' 'typescript typescripttypings ' 'netbeans reactjs '\n",
      " 'javascript reactjs ' 'python pythonx ' 'python tensorflow '\n",
      " 'python pandas ' 'git visualstudiocode ' 'git github '\n",
      " 'python pythonarrow ' 'git github ' 'python pythonx ' 'json swift '\n",
      " 'eloquent laravel ' 'javascript typescript ' 'dart flutter '\n",
      " 'angular typescript ' 'c c ' 'angular typescript ' 'python streamlit '\n",
      " 'python numpy ' 'python pandas ' 'python spyder ' 'c c '\n",
      " 'angular typescript ' 'python elasticsearch ' 'python pandas '\n",
      " 'git visualstudiocode ' 'python numpy ' 'git github ' 'c c '\n",
      " 'html angular ' 'c c ' 'html css ' 'python boilerplate '\n",
      " 'angular typescript ' 'ios xcode ' 'angular typescript '\n",
      " 'javascript reactjs ' 'ios swift ' 'javascript reactjs ' 'python flask '\n",
      " 'java spring ' 'python django ' 'python pandas ' 'python syntaxerror '\n",
      " 'c c ' 'python matplotlib ' 'git github ' 'html css '\n",
      " 'python matplotlib ' 'c aspnetcore ' 'python pythonx '\n",
      " 'python namedtuple ' 'python list ' 'python pandas ' 'javascript jquery '\n",
      " 'typescript vuejs ' 'javascript typescript ' 'python importerror '\n",
      " 'python multithreading ' 'python pandas ' 'html css '\n",
      " 'typescript typescripttypings ' 'git github ' 'angular angular '\n",
      " 'c visualstudio ' 'visualstudio visualstudio ' 'javascript jquery '\n",
      " 'python list ' 'html css ' 'python python ' 'python beautifulsoup '\n",
      " 'python pandas ' 'c c ' 'python pythonx ' 'python annotations '\n",
      " 'python numpy ' 'python pythonx ' 'windows gitcrypt ' 'python python '\n",
      " 'python module ' 'python mypy ' 'gitlab gitlabci '\n",
      " 'visualstudio visualstudio ' 'php laravel ' 'c aspnetcore '\n",
      " 'python numpy ' 'python tensorflow ' 'git push ' 'python numpy '\n",
      " 'ios swift ' 'javascript nodejs ' 'html css ']\n",
      "(1000,)\n"
     ]
    }
   ],
   "source": [
    "y_pred = model_OVR.predict(X_test)\n",
    "print(y_pred)\n",
    "print(y_pred.shape)"
   ]
  },
  {
   "cell_type": "code",
   "execution_count": 20,
   "metadata": {},
   "outputs": [
    {
     "data": {
      "text/plain": [
       "(1000,)"
      ]
     },
     "execution_count": 20,
     "metadata": {},
     "output_type": "execute_result"
    }
   ],
   "source": [
    "y_pred.shape"
   ]
  },
  {
   "cell_type": "code",
   "execution_count": 21,
   "metadata": {},
   "outputs": [
    {
     "name": "stdout",
     "output_type": "stream",
     "text": [
      "['python django ']\n"
     ]
    }
   ],
   "source": [
    "test = [\"Django supports Python. If you're under Linux and want to check the Python version you're using, run python -V from the command line If you want to check the Django version, open a Python console and type\"]\n",
    "# test_words = list(sent_to_words(test))\n",
    "# test_words = lemmatization(test_words, allowed_postags=['NOUN', 'ADJ', 'VERB', 'ADV'])\n",
    "# test_words = count_vect.transform(test_words)\n",
    "pred = model_OVR.predict(vectorizer.transform(test))\n",
    "print(pred)"
   ]
  },
  {
   "cell_type": "code",
   "execution_count": null,
   "metadata": {},
   "outputs": [],
   "source": []
  }
 ],
 "metadata": {
  "colab": {
   "provenance": [],
   "toc_visible": true
  },
  "kernelspec": {
   "display_name": "Python 3 (ipykernel)",
   "language": "python",
   "name": "python3"
  },
  "language_info": {
   "codemirror_mode": {
    "name": "ipython",
    "version": 3
   },
   "file_extension": ".py",
   "mimetype": "text/x-python",
   "name": "python",
   "nbconvert_exporter": "python",
   "pygments_lexer": "ipython3",
   "version": "3.9.13"
  },
  "toc": {
   "base_numbering": 1,
   "nav_menu": {},
   "number_sections": true,
   "sideBar": true,
   "skip_h1_title": false,
   "title_cell": "Table of Contents",
   "title_sidebar": "SOMMAIRE",
   "toc_cell": false,
   "toc_position": {},
   "toc_section_display": true,
   "toc_window_display": true
  }
 },
 "nbformat": 4,
 "nbformat_minor": 1
}
